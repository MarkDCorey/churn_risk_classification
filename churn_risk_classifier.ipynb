{
 "cells": [
  {
   "cell_type": "markdown",
   "metadata": {},
   "source": [
    "### This is a stab at creating a churn prediction classifier.  I'm using a sample data set of 50K records from a ride sharing service. Predicting users that have a high churn risk enables the business to bucket these users separately for special promotional incentives, allocation of client service resources, etc to drive reengagement and prevent churn.         "
   ]
  },
  {
   "cell_type": "code",
   "execution_count": 1,
   "metadata": {
    "collapsed": true
   },
   "outputs": [],
   "source": [
    "\n",
    "import pandas as pd\n",
    "import numpy as np\n",
    "import matplotlib.pyplot as plt\n",
    "%matplotlib inline"
   ]
  },
  {
   "cell_type": "code",
   "execution_count": 2,
   "metadata": {
    "collapsed": false
   },
   "outputs": [],
   "source": [
    "data = pd.read_csv('data/churn.csv')"
   ]
  },
  {
   "cell_type": "code",
   "execution_count": 3,
   "metadata": {
    "collapsed": false
   },
   "outputs": [
    {
     "name": "stdout",
     "output_type": "stream",
     "text": [
      "<class 'pandas.core.frame.DataFrame'>\n",
      "RangeIndex: 50000 entries, 0 to 49999\n",
      "Data columns (total 12 columns):\n",
      "avg_dist                  50000 non-null float64\n",
      "avg_rating_by_driver      49799 non-null float64\n",
      "avg_rating_of_driver      41878 non-null float64\n",
      "avg_surge                 50000 non-null float64\n",
      "city                      50000 non-null object\n",
      "last_trip_date            50000 non-null object\n",
      "phone                     49604 non-null object\n",
      "signup_date               50000 non-null object\n",
      "surge_pct                 50000 non-null float64\n",
      "trips_in_first_30_days    50000 non-null int64\n",
      "luxury_car_user           50000 non-null bool\n",
      "weekday_pct               50000 non-null float64\n",
      "dtypes: bool(1), float64(6), int64(1), object(4)\n",
      "memory usage: 4.2+ MB\n"
     ]
    }
   ],
   "source": [
    "data.info()"
   ]
  },
  {
   "cell_type": "code",
   "execution_count": 4,
   "metadata": {
    "collapsed": false
   },
   "outputs": [
    {
     "data": {
      "text/html": [
       "<div>\n",
       "<table border=\"1\" class=\"dataframe\">\n",
       "  <thead>\n",
       "    <tr style=\"text-align: right;\">\n",
       "      <th></th>\n",
       "      <th>avg_dist</th>\n",
       "      <th>avg_rating_by_driver</th>\n",
       "      <th>avg_rating_of_driver</th>\n",
       "      <th>avg_surge</th>\n",
       "      <th>city</th>\n",
       "      <th>last_trip_date</th>\n",
       "      <th>phone</th>\n",
       "      <th>signup_date</th>\n",
       "      <th>surge_pct</th>\n",
       "      <th>trips_in_first_30_days</th>\n",
       "      <th>luxury_car_user</th>\n",
       "      <th>weekday_pct</th>\n",
       "    </tr>\n",
       "  </thead>\n",
       "  <tbody>\n",
       "    <tr>\n",
       "      <th>0</th>\n",
       "      <td>3.67</td>\n",
       "      <td>5.0</td>\n",
       "      <td>4.7</td>\n",
       "      <td>1.10</td>\n",
       "      <td>King's Landing</td>\n",
       "      <td>2014-06-17</td>\n",
       "      <td>iPhone</td>\n",
       "      <td>2014-01-25</td>\n",
       "      <td>15.4</td>\n",
       "      <td>4</td>\n",
       "      <td>True</td>\n",
       "      <td>46.2</td>\n",
       "    </tr>\n",
       "    <tr>\n",
       "      <th>1</th>\n",
       "      <td>8.26</td>\n",
       "      <td>5.0</td>\n",
       "      <td>5.0</td>\n",
       "      <td>1.00</td>\n",
       "      <td>Astapor</td>\n",
       "      <td>2014-05-05</td>\n",
       "      <td>Android</td>\n",
       "      <td>2014-01-29</td>\n",
       "      <td>0.0</td>\n",
       "      <td>0</td>\n",
       "      <td>False</td>\n",
       "      <td>50.0</td>\n",
       "    </tr>\n",
       "    <tr>\n",
       "      <th>2</th>\n",
       "      <td>0.77</td>\n",
       "      <td>5.0</td>\n",
       "      <td>4.3</td>\n",
       "      <td>1.00</td>\n",
       "      <td>Astapor</td>\n",
       "      <td>2014-01-07</td>\n",
       "      <td>iPhone</td>\n",
       "      <td>2014-01-06</td>\n",
       "      <td>0.0</td>\n",
       "      <td>3</td>\n",
       "      <td>False</td>\n",
       "      <td>100.0</td>\n",
       "    </tr>\n",
       "    <tr>\n",
       "      <th>3</th>\n",
       "      <td>2.36</td>\n",
       "      <td>4.9</td>\n",
       "      <td>4.6</td>\n",
       "      <td>1.14</td>\n",
       "      <td>King's Landing</td>\n",
       "      <td>2014-06-29</td>\n",
       "      <td>iPhone</td>\n",
       "      <td>2014-01-10</td>\n",
       "      <td>20.0</td>\n",
       "      <td>9</td>\n",
       "      <td>True</td>\n",
       "      <td>80.0</td>\n",
       "    </tr>\n",
       "    <tr>\n",
       "      <th>4</th>\n",
       "      <td>3.13</td>\n",
       "      <td>4.9</td>\n",
       "      <td>4.4</td>\n",
       "      <td>1.19</td>\n",
       "      <td>Winterfell</td>\n",
       "      <td>2014-03-15</td>\n",
       "      <td>Android</td>\n",
       "      <td>2014-01-27</td>\n",
       "      <td>11.8</td>\n",
       "      <td>14</td>\n",
       "      <td>False</td>\n",
       "      <td>82.4</td>\n",
       "    </tr>\n",
       "  </tbody>\n",
       "</table>\n",
       "</div>"
      ],
      "text/plain": [
       "   avg_dist  avg_rating_by_driver  avg_rating_of_driver  avg_surge  \\\n",
       "0      3.67                   5.0                   4.7       1.10   \n",
       "1      8.26                   5.0                   5.0       1.00   \n",
       "2      0.77                   5.0                   4.3       1.00   \n",
       "3      2.36                   4.9                   4.6       1.14   \n",
       "4      3.13                   4.9                   4.4       1.19   \n",
       "\n",
       "             city last_trip_date    phone signup_date  surge_pct  \\\n",
       "0  King's Landing     2014-06-17   iPhone  2014-01-25       15.4   \n",
       "1         Astapor     2014-05-05  Android  2014-01-29        0.0   \n",
       "2         Astapor     2014-01-07   iPhone  2014-01-06        0.0   \n",
       "3  King's Landing     2014-06-29   iPhone  2014-01-10       20.0   \n",
       "4      Winterfell     2014-03-15  Android  2014-01-27       11.8   \n",
       "\n",
       "   trips_in_first_30_days luxury_car_user  weekday_pct  \n",
       "0                       4            True         46.2  \n",
       "1                       0           False         50.0  \n",
       "2                       3           False        100.0  \n",
       "3                       9            True         80.0  \n",
       "4                      14           False         82.4  "
      ]
     },
     "execution_count": 4,
     "metadata": {},
     "output_type": "execute_result"
    }
   ],
   "source": [
    "data.head()"
   ]
  },
  {
   "cell_type": "code",
   "execution_count": 5,
   "metadata": {
    "collapsed": false
   },
   "outputs": [
    {
     "data": {
      "text/html": [
       "<div>\n",
       "<table border=\"1\" class=\"dataframe\">\n",
       "  <thead>\n",
       "    <tr style=\"text-align: right;\">\n",
       "      <th></th>\n",
       "      <th>avg_dist</th>\n",
       "      <th>avg_rating_by_driver</th>\n",
       "      <th>avg_rating_of_driver</th>\n",
       "      <th>avg_surge</th>\n",
       "      <th>city</th>\n",
       "      <th>last_trip_date</th>\n",
       "      <th>phone</th>\n",
       "      <th>signup_date</th>\n",
       "      <th>surge_pct</th>\n",
       "      <th>trips_in_first_30_days</th>\n",
       "      <th>luxury_car_user</th>\n",
       "      <th>weekday_pct</th>\n",
       "    </tr>\n",
       "  </thead>\n",
       "  <tbody>\n",
       "    <tr>\n",
       "      <th>0</th>\n",
       "      <td>3.67</td>\n",
       "      <td>5.0</td>\n",
       "      <td>4.7</td>\n",
       "      <td>1.10</td>\n",
       "      <td>King's Landing</td>\n",
       "      <td>2014-06-17</td>\n",
       "      <td>iPhone</td>\n",
       "      <td>2014-01-25</td>\n",
       "      <td>15.4</td>\n",
       "      <td>4</td>\n",
       "      <td>True</td>\n",
       "      <td>46.2</td>\n",
       "    </tr>\n",
       "    <tr>\n",
       "      <th>1</th>\n",
       "      <td>8.26</td>\n",
       "      <td>5.0</td>\n",
       "      <td>5.0</td>\n",
       "      <td>1.00</td>\n",
       "      <td>Astapor</td>\n",
       "      <td>2014-05-05</td>\n",
       "      <td>Android</td>\n",
       "      <td>2014-01-29</td>\n",
       "      <td>0.0</td>\n",
       "      <td>0</td>\n",
       "      <td>False</td>\n",
       "      <td>50.0</td>\n",
       "    </tr>\n",
       "    <tr>\n",
       "      <th>2</th>\n",
       "      <td>0.77</td>\n",
       "      <td>5.0</td>\n",
       "      <td>4.3</td>\n",
       "      <td>1.00</td>\n",
       "      <td>Astapor</td>\n",
       "      <td>2014-01-07</td>\n",
       "      <td>iPhone</td>\n",
       "      <td>2014-01-06</td>\n",
       "      <td>0.0</td>\n",
       "      <td>3</td>\n",
       "      <td>False</td>\n",
       "      <td>100.0</td>\n",
       "    </tr>\n",
       "    <tr>\n",
       "      <th>3</th>\n",
       "      <td>2.36</td>\n",
       "      <td>4.9</td>\n",
       "      <td>4.6</td>\n",
       "      <td>1.14</td>\n",
       "      <td>King's Landing</td>\n",
       "      <td>2014-06-29</td>\n",
       "      <td>iPhone</td>\n",
       "      <td>2014-01-10</td>\n",
       "      <td>20.0</td>\n",
       "      <td>9</td>\n",
       "      <td>True</td>\n",
       "      <td>80.0</td>\n",
       "    </tr>\n",
       "    <tr>\n",
       "      <th>4</th>\n",
       "      <td>3.13</td>\n",
       "      <td>4.9</td>\n",
       "      <td>4.4</td>\n",
       "      <td>1.19</td>\n",
       "      <td>Winterfell</td>\n",
       "      <td>2014-03-15</td>\n",
       "      <td>Android</td>\n",
       "      <td>2014-01-27</td>\n",
       "      <td>11.8</td>\n",
       "      <td>14</td>\n",
       "      <td>False</td>\n",
       "      <td>82.4</td>\n",
       "    </tr>\n",
       "  </tbody>\n",
       "</table>\n",
       "</div>"
      ],
      "text/plain": [
       "   avg_dist  avg_rating_by_driver  avg_rating_of_driver  avg_surge  \\\n",
       "0      3.67                   5.0                   4.7       1.10   \n",
       "1      8.26                   5.0                   5.0       1.00   \n",
       "2      0.77                   5.0                   4.3       1.00   \n",
       "3      2.36                   4.9                   4.6       1.14   \n",
       "4      3.13                   4.9                   4.4       1.19   \n",
       "\n",
       "             city last_trip_date    phone signup_date  surge_pct  \\\n",
       "0  King's Landing     2014-06-17   iPhone  2014-01-25       15.4   \n",
       "1         Astapor     2014-05-05  Android  2014-01-29        0.0   \n",
       "2         Astapor     2014-01-07   iPhone  2014-01-06        0.0   \n",
       "3  King's Landing     2014-06-29   iPhone  2014-01-10       20.0   \n",
       "4      Winterfell     2014-03-15  Android  2014-01-27       11.8   \n",
       "\n",
       "   trips_in_first_30_days luxury_car_user  weekday_pct  \n",
       "0                       4            True         46.2  \n",
       "1                       0           False         50.0  \n",
       "2                       3           False        100.0  \n",
       "3                       9            True         80.0  \n",
       "4                      14           False         82.4  "
      ]
     },
     "execution_count": 5,
     "metadata": {},
     "output_type": "execute_result"
    }
   ],
   "source": [
    "#converting the date columns to datetime format\n",
    "data.last_trip_date = pd.to_datetime(data.last_trip_date, format = '%Y-%m-%d')\n",
    "data.signup_date = pd.to_datetime(data.signup_date, format = '%Y-%m-%d')\n",
    "data.head()"
   ]
  },
  {
   "cell_type": "code",
   "execution_count": 6,
   "metadata": {
    "collapsed": false
   },
   "outputs": [
    {
     "name": "stdout",
     "output_type": "stream",
     "text": [
      "<class 'pandas.core.frame.DataFrame'>\n",
      "RangeIndex: 50000 entries, 0 to 49999\n",
      "Data columns (total 12 columns):\n",
      "avg_dist                  50000 non-null float64\n",
      "avg_rating_by_driver      49799 non-null float64\n",
      "avg_rating_of_driver      41878 non-null float64\n",
      "avg_surge                 50000 non-null float64\n",
      "city                      50000 non-null object\n",
      "last_trip_date            50000 non-null datetime64[ns]\n",
      "phone                     49604 non-null object\n",
      "signup_date               50000 non-null datetime64[ns]\n",
      "surge_pct                 50000 non-null float64\n",
      "trips_in_first_30_days    50000 non-null int64\n",
      "luxury_car_user           50000 non-null bool\n",
      "weekday_pct               50000 non-null float64\n",
      "dtypes: bool(1), datetime64[ns](2), float64(6), int64(1), object(2)\n",
      "memory usage: 4.2+ MB\n"
     ]
    }
   ],
   "source": [
    "data.info()"
   ]
  },
  {
   "cell_type": "code",
   "execution_count": 7,
   "metadata": {
    "collapsed": false
   },
   "outputs": [],
   "source": [
    "#defining churn as any user who hasn't used service in past month\n",
    "data['churn'] = data.last_trip_date < '2014-06-01'"
   ]
  },
  {
   "cell_type": "code",
   "execution_count": 8,
   "metadata": {
    "collapsed": false
   },
   "outputs": [
    {
     "data": {
      "text/html": [
       "<div>\n",
       "<table border=\"1\" class=\"dataframe\">\n",
       "  <thead>\n",
       "    <tr style=\"text-align: right;\">\n",
       "      <th></th>\n",
       "      <th>avg_dist</th>\n",
       "      <th>avg_rating_by_driver</th>\n",
       "      <th>avg_rating_of_driver</th>\n",
       "      <th>avg_surge</th>\n",
       "      <th>city</th>\n",
       "      <th>last_trip_date</th>\n",
       "      <th>phone</th>\n",
       "      <th>signup_date</th>\n",
       "      <th>surge_pct</th>\n",
       "      <th>trips_in_first_30_days</th>\n",
       "      <th>luxury_car_user</th>\n",
       "      <th>weekday_pct</th>\n",
       "      <th>churn</th>\n",
       "    </tr>\n",
       "  </thead>\n",
       "  <tbody>\n",
       "    <tr>\n",
       "      <th>0</th>\n",
       "      <td>3.67</td>\n",
       "      <td>5.0</td>\n",
       "      <td>4.7</td>\n",
       "      <td>1.10</td>\n",
       "      <td>King's Landing</td>\n",
       "      <td>2014-06-17</td>\n",
       "      <td>iPhone</td>\n",
       "      <td>2014-01-25</td>\n",
       "      <td>15.4</td>\n",
       "      <td>4</td>\n",
       "      <td>True</td>\n",
       "      <td>46.2</td>\n",
       "      <td>False</td>\n",
       "    </tr>\n",
       "    <tr>\n",
       "      <th>1</th>\n",
       "      <td>8.26</td>\n",
       "      <td>5.0</td>\n",
       "      <td>5.0</td>\n",
       "      <td>1.00</td>\n",
       "      <td>Astapor</td>\n",
       "      <td>2014-05-05</td>\n",
       "      <td>Android</td>\n",
       "      <td>2014-01-29</td>\n",
       "      <td>0.0</td>\n",
       "      <td>0</td>\n",
       "      <td>False</td>\n",
       "      <td>50.0</td>\n",
       "      <td>True</td>\n",
       "    </tr>\n",
       "    <tr>\n",
       "      <th>2</th>\n",
       "      <td>0.77</td>\n",
       "      <td>5.0</td>\n",
       "      <td>4.3</td>\n",
       "      <td>1.00</td>\n",
       "      <td>Astapor</td>\n",
       "      <td>2014-01-07</td>\n",
       "      <td>iPhone</td>\n",
       "      <td>2014-01-06</td>\n",
       "      <td>0.0</td>\n",
       "      <td>3</td>\n",
       "      <td>False</td>\n",
       "      <td>100.0</td>\n",
       "      <td>True</td>\n",
       "    </tr>\n",
       "    <tr>\n",
       "      <th>3</th>\n",
       "      <td>2.36</td>\n",
       "      <td>4.9</td>\n",
       "      <td>4.6</td>\n",
       "      <td>1.14</td>\n",
       "      <td>King's Landing</td>\n",
       "      <td>2014-06-29</td>\n",
       "      <td>iPhone</td>\n",
       "      <td>2014-01-10</td>\n",
       "      <td>20.0</td>\n",
       "      <td>9</td>\n",
       "      <td>True</td>\n",
       "      <td>80.0</td>\n",
       "      <td>False</td>\n",
       "    </tr>\n",
       "    <tr>\n",
       "      <th>4</th>\n",
       "      <td>3.13</td>\n",
       "      <td>4.9</td>\n",
       "      <td>4.4</td>\n",
       "      <td>1.19</td>\n",
       "      <td>Winterfell</td>\n",
       "      <td>2014-03-15</td>\n",
       "      <td>Android</td>\n",
       "      <td>2014-01-27</td>\n",
       "      <td>11.8</td>\n",
       "      <td>14</td>\n",
       "      <td>False</td>\n",
       "      <td>82.4</td>\n",
       "      <td>True</td>\n",
       "    </tr>\n",
       "  </tbody>\n",
       "</table>\n",
       "</div>"
      ],
      "text/plain": [
       "   avg_dist  avg_rating_by_driver  avg_rating_of_driver  avg_surge  \\\n",
       "0      3.67                   5.0                   4.7       1.10   \n",
       "1      8.26                   5.0                   5.0       1.00   \n",
       "2      0.77                   5.0                   4.3       1.00   \n",
       "3      2.36                   4.9                   4.6       1.14   \n",
       "4      3.13                   4.9                   4.4       1.19   \n",
       "\n",
       "             city last_trip_date    phone signup_date  surge_pct  \\\n",
       "0  King's Landing     2014-06-17   iPhone  2014-01-25       15.4   \n",
       "1         Astapor     2014-05-05  Android  2014-01-29        0.0   \n",
       "2         Astapor     2014-01-07   iPhone  2014-01-06        0.0   \n",
       "3  King's Landing     2014-06-29   iPhone  2014-01-10       20.0   \n",
       "4      Winterfell     2014-03-15  Android  2014-01-27       11.8   \n",
       "\n",
       "   trips_in_first_30_days luxury_car_user  weekday_pct  churn  \n",
       "0                       4            True         46.2  False  \n",
       "1                       0           False         50.0   True  \n",
       "2                       3           False        100.0   True  \n",
       "3                       9            True         80.0  False  \n",
       "4                      14           False         82.4   True  "
      ]
     },
     "execution_count": 8,
     "metadata": {},
     "output_type": "execute_result"
    }
   ],
   "source": [
    "data.head()"
   ]
  },
  {
   "cell_type": "code",
   "execution_count": 9,
   "metadata": {
    "collapsed": false
   },
   "outputs": [
    {
     "data": {
      "text/plain": [
       "True     31196\n",
       "False    18804\n",
       "Name: churn, dtype: int64"
      ]
     },
     "execution_count": 9,
     "metadata": {},
     "output_type": "execute_result"
    }
   ],
   "source": [
    "#~2/3 of users have churned\n",
    "data.churn.value_counts()"
   ]
  },
  {
   "cell_type": "code",
   "execution_count": 10,
   "metadata": {
    "collapsed": false
   },
   "outputs": [
    {
     "data": {
      "text/plain": [
       "True     0.62392\n",
       "False    0.37608\n",
       "Name: churn, dtype: float64"
      ]
     },
     "execution_count": 10,
     "metadata": {},
     "output_type": "execute_result"
    }
   ],
   "source": [
    "data.churn.value_counts()/(len(data.churn))"
   ]
  },
  {
   "cell_type": "code",
   "execution_count": 11,
   "metadata": {
    "collapsed": false
   },
   "outputs": [],
   "source": [
    "#replacing bool churn value with 1/0\n",
    "data.churn = data['churn'].astype(int, inplace=True)"
   ]
  },
  {
   "cell_type": "code",
   "execution_count": 12,
   "metadata": {
    "collapsed": false
   },
   "outputs": [
    {
     "data": {
      "text/html": [
       "<div>\n",
       "<table border=\"1\" class=\"dataframe\">\n",
       "  <thead>\n",
       "    <tr style=\"text-align: right;\">\n",
       "      <th></th>\n",
       "      <th>avg_dist</th>\n",
       "      <th>avg_rating_by_driver</th>\n",
       "      <th>avg_rating_of_driver</th>\n",
       "      <th>avg_surge</th>\n",
       "      <th>city</th>\n",
       "      <th>last_trip_date</th>\n",
       "      <th>phone</th>\n",
       "      <th>signup_date</th>\n",
       "      <th>surge_pct</th>\n",
       "      <th>trips_in_first_30_days</th>\n",
       "      <th>luxury_car_user</th>\n",
       "      <th>weekday_pct</th>\n",
       "      <th>churn</th>\n",
       "    </tr>\n",
       "  </thead>\n",
       "  <tbody>\n",
       "    <tr>\n",
       "      <th>0</th>\n",
       "      <td>3.67</td>\n",
       "      <td>5.0</td>\n",
       "      <td>4.7</td>\n",
       "      <td>1.10</td>\n",
       "      <td>King's Landing</td>\n",
       "      <td>2014-06-17</td>\n",
       "      <td>iPhone</td>\n",
       "      <td>2014-01-25</td>\n",
       "      <td>15.4</td>\n",
       "      <td>4</td>\n",
       "      <td>True</td>\n",
       "      <td>46.2</td>\n",
       "      <td>0</td>\n",
       "    </tr>\n",
       "    <tr>\n",
       "      <th>1</th>\n",
       "      <td>8.26</td>\n",
       "      <td>5.0</td>\n",
       "      <td>5.0</td>\n",
       "      <td>1.00</td>\n",
       "      <td>Astapor</td>\n",
       "      <td>2014-05-05</td>\n",
       "      <td>Android</td>\n",
       "      <td>2014-01-29</td>\n",
       "      <td>0.0</td>\n",
       "      <td>0</td>\n",
       "      <td>False</td>\n",
       "      <td>50.0</td>\n",
       "      <td>1</td>\n",
       "    </tr>\n",
       "    <tr>\n",
       "      <th>2</th>\n",
       "      <td>0.77</td>\n",
       "      <td>5.0</td>\n",
       "      <td>4.3</td>\n",
       "      <td>1.00</td>\n",
       "      <td>Astapor</td>\n",
       "      <td>2014-01-07</td>\n",
       "      <td>iPhone</td>\n",
       "      <td>2014-01-06</td>\n",
       "      <td>0.0</td>\n",
       "      <td>3</td>\n",
       "      <td>False</td>\n",
       "      <td>100.0</td>\n",
       "      <td>1</td>\n",
       "    </tr>\n",
       "    <tr>\n",
       "      <th>3</th>\n",
       "      <td>2.36</td>\n",
       "      <td>4.9</td>\n",
       "      <td>4.6</td>\n",
       "      <td>1.14</td>\n",
       "      <td>King's Landing</td>\n",
       "      <td>2014-06-29</td>\n",
       "      <td>iPhone</td>\n",
       "      <td>2014-01-10</td>\n",
       "      <td>20.0</td>\n",
       "      <td>9</td>\n",
       "      <td>True</td>\n",
       "      <td>80.0</td>\n",
       "      <td>0</td>\n",
       "    </tr>\n",
       "    <tr>\n",
       "      <th>4</th>\n",
       "      <td>3.13</td>\n",
       "      <td>4.9</td>\n",
       "      <td>4.4</td>\n",
       "      <td>1.19</td>\n",
       "      <td>Winterfell</td>\n",
       "      <td>2014-03-15</td>\n",
       "      <td>Android</td>\n",
       "      <td>2014-01-27</td>\n",
       "      <td>11.8</td>\n",
       "      <td>14</td>\n",
       "      <td>False</td>\n",
       "      <td>82.4</td>\n",
       "      <td>1</td>\n",
       "    </tr>\n",
       "  </tbody>\n",
       "</table>\n",
       "</div>"
      ],
      "text/plain": [
       "   avg_dist  avg_rating_by_driver  avg_rating_of_driver  avg_surge  \\\n",
       "0      3.67                   5.0                   4.7       1.10   \n",
       "1      8.26                   5.0                   5.0       1.00   \n",
       "2      0.77                   5.0                   4.3       1.00   \n",
       "3      2.36                   4.9                   4.6       1.14   \n",
       "4      3.13                   4.9                   4.4       1.19   \n",
       "\n",
       "             city last_trip_date    phone signup_date  surge_pct  \\\n",
       "0  King's Landing     2014-06-17   iPhone  2014-01-25       15.4   \n",
       "1         Astapor     2014-05-05  Android  2014-01-29        0.0   \n",
       "2         Astapor     2014-01-07   iPhone  2014-01-06        0.0   \n",
       "3  King's Landing     2014-06-29   iPhone  2014-01-10       20.0   \n",
       "4      Winterfell     2014-03-15  Android  2014-01-27       11.8   \n",
       "\n",
       "   trips_in_first_30_days luxury_car_user  weekday_pct  churn  \n",
       "0                       4            True         46.2      0  \n",
       "1                       0           False         50.0      1  \n",
       "2                       3           False        100.0      1  \n",
       "3                       9            True         80.0      0  \n",
       "4                      14           False         82.4      1  "
      ]
     },
     "execution_count": 12,
     "metadata": {},
     "output_type": "execute_result"
    }
   ],
   "source": [
    "data.head()"
   ]
  },
  {
   "cell_type": "code",
   "execution_count": 13,
   "metadata": {
    "collapsed": false
   },
   "outputs": [
    {
     "data": {
      "text/plain": [
       "iPhone     34582\n",
       "Android    15022\n",
       "Name: phone, dtype: int64"
      ]
     },
     "execution_count": 13,
     "metadata": {},
     "output_type": "execute_result"
    }
   ],
   "source": [
    "data.phone.value_counts()"
   ]
  },
  {
   "cell_type": "code",
   "execution_count": 14,
   "metadata": {
    "collapsed": true
   },
   "outputs": [],
   "source": [
    "#a handful of records don't include a phone value.  Addding a placeholder here.\n",
    "data.phone = data.phone.fillna('empty_phone')"
   ]
  },
  {
   "cell_type": "code",
   "execution_count": 15,
   "metadata": {
    "collapsed": false
   },
   "outputs": [],
   "source": [
    "#creating dummies for phone and city categorical vars\n",
    "data.city = data.city.astype(\"category\")\n",
    "data.phone = data.phone.astype('category')"
   ]
  },
  {
   "cell_type": "code",
   "execution_count": 16,
   "metadata": {
    "collapsed": false
   },
   "outputs": [
    {
     "data": {
      "text/html": [
       "<div>\n",
       "<table border=\"1\" class=\"dataframe\">\n",
       "  <thead>\n",
       "    <tr style=\"text-align: right;\">\n",
       "      <th>city</th>\n",
       "      <th>Astapor</th>\n",
       "      <th>King's Landing</th>\n",
       "      <th>Winterfell</th>\n",
       "    </tr>\n",
       "    <tr>\n",
       "      <th>phone</th>\n",
       "      <th></th>\n",
       "      <th></th>\n",
       "      <th></th>\n",
       "    </tr>\n",
       "  </thead>\n",
       "  <tbody>\n",
       "    <tr>\n",
       "      <th>Android</th>\n",
       "      <td>5244</td>\n",
       "      <td>2498</td>\n",
       "      <td>7280</td>\n",
       "    </tr>\n",
       "    <tr>\n",
       "      <th>empty_phone</th>\n",
       "      <td>121</td>\n",
       "      <td>64</td>\n",
       "      <td>211</td>\n",
       "    </tr>\n",
       "    <tr>\n",
       "      <th>iPhone</th>\n",
       "      <td>11169</td>\n",
       "      <td>7568</td>\n",
       "      <td>15845</td>\n",
       "    </tr>\n",
       "  </tbody>\n",
       "</table>\n",
       "</div>"
      ],
      "text/plain": [
       "city         Astapor  King's Landing  Winterfell\n",
       "phone                                           \n",
       "Android         5244            2498        7280\n",
       "empty_phone      121              64         211\n",
       "iPhone         11169            7568       15845"
      ]
     },
     "execution_count": 16,
     "metadata": {},
     "output_type": "execute_result"
    }
   ],
   "source": [
    "pd.crosstab(data.phone, data.city)"
   ]
  },
  {
   "cell_type": "code",
   "execution_count": 17,
   "metadata": {
    "collapsed": false
   },
   "outputs": [
    {
     "name": "stdout",
     "output_type": "stream",
     "text": [
      "<class 'pandas.core.frame.DataFrame'>\n",
      "RangeIndex: 50000 entries, 0 to 49999\n",
      "Data columns (total 13 columns):\n",
      "avg_dist                  50000 non-null float64\n",
      "avg_rating_by_driver      49799 non-null float64\n",
      "avg_rating_of_driver      41878 non-null float64\n",
      "avg_surge                 50000 non-null float64\n",
      "city                      50000 non-null category\n",
      "last_trip_date            50000 non-null datetime64[ns]\n",
      "phone                     50000 non-null category\n",
      "signup_date               50000 non-null datetime64[ns]\n",
      "surge_pct                 50000 non-null float64\n",
      "trips_in_first_30_days    50000 non-null int64\n",
      "luxury_car_user           50000 non-null bool\n",
      "weekday_pct               50000 non-null float64\n",
      "churn                     50000 non-null int64\n",
      "dtypes: bool(1), category(2), datetime64[ns](2), float64(6), int64(2)\n",
      "memory usage: 4.0 MB\n"
     ]
    }
   ],
   "source": [
    "data.info()"
   ]
  },
  {
   "cell_type": "markdown",
   "metadata": {},
   "source": [
    "### What to do about missing values?\n",
    "### the ratings vars need to be removed, imputed with some value, or binned separately as having 'empty' value\n",
    "### the first two options should be considered when the values are missing at random, otherwise we should bin\n",
    "### to determine whether the missing values are random we can observe whether the missing values have an effect on churn by comparing the churn rate of users who have missing values v those who do not.  \n"
   ]
  },
  {
   "cell_type": "markdown",
   "metadata": {},
   "source": [
    "Some info on the scs function I'll use to compare the groups of records....\n",
    "\n",
    "    scipy.stats.ttest_ind(a, b, axis=0, equal_var=True)[source]\n",
    "    Calculates the T-test for the means of TWO INDEPENDENT samples of scores.\n",
    "\n",
    "    This is a two-sided test for the null hypothesis that 2 independent samples have identical average (expected) \n",
    "    values. This test assumes that the populations have identical variances."
   ]
  },
  {
   "cell_type": "code",
   "execution_count": 220,
   "metadata": {
    "collapsed": false
   },
   "outputs": [],
   "source": [
    "#writing a function to run t-test between groups that do and don't posess a particular condition\n",
    "#used to determine whether the condition affects churn rate.  If not, we can either drop records with missing vals \n",
    "#or impute a value.  Otherwise, we should retain the records and bin them separately\n",
    "\n",
    "import scipy.stats as scs\n",
    "\n",
    "def t_test(feature, condition):\n",
    "    '''\n",
    "    INPUT feature (a pandas Series): the column of interest\n",
    "    INPUT condition (boolean): condition to t-test by\n",
    "    OUTPUT\n",
    "    '''\n",
    "    #test takes in a Series and applies the condition: the churn column where phone is null\n",
    "    #compares this sample to the opposite: churn column where phone IS NOT null\n",
    "    #compares the means of each sample to one another (mean of array of 1s/0s)\n",
    "    #runs t-test \n",
    "\n",
    "    ttest = scs.ttest_ind(feature[condition], feature[-condition])\n",
    "    print '***t-test for difference in means***'\n",
    "    print 'user count with condition: {}, user count without condition: {}'\\\n",
    "        .format(len(feature[condition]), len(feature[-condition]))\n",
    "    print 'mean with condition: {}, mean without condition: {}'\\\n",
    "        .format(feature[condition].mean(), feature[-condition].mean())\n",
    "    print 't statistic: {}'.format(ttest.statistic, 4)\n",
    "    print 'p-value: {}'.format(ttest.pvalue)\n",
    "    \n",
    "    "
   ]
  },
  {
   "cell_type": "code",
   "execution_count": 221,
   "metadata": {
    "collapsed": false
   },
   "outputs": [
    {
     "name": "stdout",
     "output_type": "stream",
     "text": [
      "***t-test for difference in means***\n",
      "user count with condition: 396, user count without condition: 49604\n",
      "mean with condition: 0.664141414141, mean without condition: 0.623598903314\n",
      "t statistic: 1.65893845728\n",
      "p-value: 0.0971344664588\n"
     ]
    }
   ],
   "source": [
    "# Measure the effect of empty phone values\n",
    "t_test(data['churn'], data['phone'] == 'empty_phone')"
   ]
  },
  {
   "cell_type": "markdown",
   "metadata": {},
   "source": [
    "this condition does not generate a statistically significant difference in churn rate.  we can therefore drop the records with missing phone"
   ]
  },
  {
   "cell_type": "code",
   "execution_count": 222,
   "metadata": {
    "collapsed": true
   },
   "outputs": [],
   "source": [
    "data = data[data['phone'] != 'empty_phone']"
   ]
  },
  {
   "cell_type": "code",
   "execution_count": 223,
   "metadata": {
    "collapsed": false
   },
   "outputs": [
    {
     "name": "stdout",
     "output_type": "stream",
     "text": [
      "<class 'pandas.core.frame.DataFrame'>\n",
      "Int64Index: 49604 entries, 0 to 49999\n",
      "Data columns (total 13 columns):\n",
      "avg_dist                  49604 non-null float64\n",
      "avg_rating_by_driver      49406 non-null float64\n",
      "avg_rating_of_driver      41578 non-null float64\n",
      "avg_surge                 49604 non-null float64\n",
      "city                      49604 non-null category\n",
      "last_trip_date            49604 non-null datetime64[ns]\n",
      "phone                     49604 non-null category\n",
      "signup_date               49604 non-null datetime64[ns]\n",
      "surge_pct                 49604 non-null float64\n",
      "trips_in_first_30_days    49604 non-null int64\n",
      "luxury_car_user           49604 non-null bool\n",
      "weekday_pct               49604 non-null float64\n",
      "churn                     49604 non-null int64\n",
      "dtypes: bool(1), category(2), datetime64[ns](2), float64(6), int64(2)\n",
      "memory usage: 4.3 MB\n"
     ]
    }
   ],
   "source": [
    "#verifying dropped records\n",
    "data.info()"
   ]
  },
  {
   "cell_type": "code",
   "execution_count": 224,
   "metadata": {
    "collapsed": false
   },
   "outputs": [
    {
     "name": "stdout",
     "output_type": "stream",
     "text": [
      "***t-test for difference in means***\n",
      "user count with condition: 198, user count without condition: 49406\n",
      "mean with condition: 0.818181818182, mean without condition: 0.622819090799\n",
      "t statistic: 5.6644709906\n",
      "p-value: 1.48293067402e-08\n"
     ]
    }
   ],
   "source": [
    "#Measure the effect of missing avg_rating_by_driver values\n",
    "t_test(data['churn'], data['avg_rating_by_driver'].isnull())"
   ]
  },
  {
   "cell_type": "code",
   "execution_count": 225,
   "metadata": {
    "collapsed": false
   },
   "outputs": [
    {
     "name": "stdout",
     "output_type": "stream",
     "text": [
      "***t-test for difference in means***\n",
      "user count with condition: 8026, user count without condition: 41578\n",
      "mean with condition: 0.797906802891, mean without condition: 0.589951416615\n",
      "t statistic: 35.6534139171\n",
      "p-value: 6.34574724075e-275\n"
     ]
    }
   ],
   "source": [
    "#Measure the effect of missing avg_rating_of_driver values\n",
    "t_test(data['churn'], data['avg_rating_of_driver'].isnull())"
   ]
  },
  {
   "cell_type": "markdown",
   "metadata": {},
   "source": [
    "these conditions generate statistically significant differences in churn rate.  we therefore need to retain these records and information by bucketing the records separately"
   ]
  },
  {
   "cell_type": "code",
   "execution_count": 226,
   "metadata": {
    "collapsed": false
   },
   "outputs": [
    {
     "data": {
      "text/html": [
       "<div>\n",
       "<table border=\"1\" class=\"dataframe\">\n",
       "  <thead>\n",
       "    <tr style=\"text-align: right;\">\n",
       "      <th></th>\n",
       "      <th>avg_dist</th>\n",
       "      <th>avg_rating_by_driver</th>\n",
       "      <th>avg_rating_of_driver</th>\n",
       "      <th>avg_surge</th>\n",
       "      <th>city</th>\n",
       "      <th>last_trip_date</th>\n",
       "      <th>phone</th>\n",
       "      <th>signup_date</th>\n",
       "      <th>surge_pct</th>\n",
       "      <th>trips_in_first_30_days</th>\n",
       "      <th>luxury_car_user</th>\n",
       "      <th>weekday_pct</th>\n",
       "      <th>churn</th>\n",
       "    </tr>\n",
       "  </thead>\n",
       "  <tbody>\n",
       "    <tr>\n",
       "      <th>0</th>\n",
       "      <td>3.67</td>\n",
       "      <td>5.0</td>\n",
       "      <td>4.7</td>\n",
       "      <td>1.10</td>\n",
       "      <td>King's Landing</td>\n",
       "      <td>2014-06-17</td>\n",
       "      <td>iPhone</td>\n",
       "      <td>2014-01-25</td>\n",
       "      <td>15.4</td>\n",
       "      <td>4</td>\n",
       "      <td>True</td>\n",
       "      <td>46.2</td>\n",
       "      <td>0</td>\n",
       "    </tr>\n",
       "    <tr>\n",
       "      <th>1</th>\n",
       "      <td>8.26</td>\n",
       "      <td>5.0</td>\n",
       "      <td>5.0</td>\n",
       "      <td>1.00</td>\n",
       "      <td>Astapor</td>\n",
       "      <td>2014-05-05</td>\n",
       "      <td>Android</td>\n",
       "      <td>2014-01-29</td>\n",
       "      <td>0.0</td>\n",
       "      <td>0</td>\n",
       "      <td>False</td>\n",
       "      <td>50.0</td>\n",
       "      <td>1</td>\n",
       "    </tr>\n",
       "    <tr>\n",
       "      <th>2</th>\n",
       "      <td>0.77</td>\n",
       "      <td>5.0</td>\n",
       "      <td>4.3</td>\n",
       "      <td>1.00</td>\n",
       "      <td>Astapor</td>\n",
       "      <td>2014-01-07</td>\n",
       "      <td>iPhone</td>\n",
       "      <td>2014-01-06</td>\n",
       "      <td>0.0</td>\n",
       "      <td>3</td>\n",
       "      <td>False</td>\n",
       "      <td>100.0</td>\n",
       "      <td>1</td>\n",
       "    </tr>\n",
       "    <tr>\n",
       "      <th>3</th>\n",
       "      <td>2.36</td>\n",
       "      <td>4.9</td>\n",
       "      <td>4.6</td>\n",
       "      <td>1.14</td>\n",
       "      <td>King's Landing</td>\n",
       "      <td>2014-06-29</td>\n",
       "      <td>iPhone</td>\n",
       "      <td>2014-01-10</td>\n",
       "      <td>20.0</td>\n",
       "      <td>9</td>\n",
       "      <td>True</td>\n",
       "      <td>80.0</td>\n",
       "      <td>0</td>\n",
       "    </tr>\n",
       "    <tr>\n",
       "      <th>4</th>\n",
       "      <td>3.13</td>\n",
       "      <td>4.9</td>\n",
       "      <td>4.4</td>\n",
       "      <td>1.19</td>\n",
       "      <td>Winterfell</td>\n",
       "      <td>2014-03-15</td>\n",
       "      <td>Android</td>\n",
       "      <td>2014-01-27</td>\n",
       "      <td>11.8</td>\n",
       "      <td>14</td>\n",
       "      <td>False</td>\n",
       "      <td>82.4</td>\n",
       "      <td>1</td>\n",
       "    </tr>\n",
       "  </tbody>\n",
       "</table>\n",
       "</div>"
      ],
      "text/plain": [
       "   avg_dist  avg_rating_by_driver  avg_rating_of_driver  avg_surge  \\\n",
       "0      3.67                   5.0                   4.7       1.10   \n",
       "1      8.26                   5.0                   5.0       1.00   \n",
       "2      0.77                   5.0                   4.3       1.00   \n",
       "3      2.36                   4.9                   4.6       1.14   \n",
       "4      3.13                   4.9                   4.4       1.19   \n",
       "\n",
       "             city last_trip_date    phone signup_date  surge_pct  \\\n",
       "0  King's Landing     2014-06-17   iPhone  2014-01-25       15.4   \n",
       "1         Astapor     2014-05-05  Android  2014-01-29        0.0   \n",
       "2         Astapor     2014-01-07   iPhone  2014-01-06        0.0   \n",
       "3  King's Landing     2014-06-29   iPhone  2014-01-10       20.0   \n",
       "4      Winterfell     2014-03-15  Android  2014-01-27       11.8   \n",
       "\n",
       "   trips_in_first_30_days luxury_car_user  weekday_pct  churn  \n",
       "0                       4            True         46.2      0  \n",
       "1                       0           False         50.0      1  \n",
       "2                       3           False        100.0      1  \n",
       "3                       9            True         80.0      0  \n",
       "4                      14           False         82.4      1  "
      ]
     },
     "execution_count": 226,
     "metadata": {},
     "output_type": "execute_result"
    }
   ],
   "source": [
    "data.head()"
   ]
  },
  {
   "cell_type": "code",
   "execution_count": 227,
   "metadata": {
    "collapsed": false
   },
   "outputs": [
    {
     "name": "stdout",
     "output_type": "stream",
     "text": [
      "<class 'pandas.core.frame.DataFrame'>\n",
      "Int64Index: 49604 entries, 0 to 49999\n",
      "Data columns (total 13 columns):\n",
      "avg_dist                  49604 non-null float64\n",
      "avg_rating_by_driver      49406 non-null float64\n",
      "avg_rating_of_driver      41578 non-null float64\n",
      "avg_surge                 49604 non-null float64\n",
      "city                      49604 non-null category\n",
      "last_trip_date            49604 non-null datetime64[ns]\n",
      "phone                     49604 non-null category\n",
      "signup_date               49604 non-null datetime64[ns]\n",
      "surge_pct                 49604 non-null float64\n",
      "trips_in_first_30_days    49604 non-null int64\n",
      "luxury_car_user           49604 non-null bool\n",
      "weekday_pct               49604 non-null float64\n",
      "churn                     49604 non-null int64\n",
      "dtypes: bool(1), category(2), datetime64[ns](2), float64(6), int64(2)\n",
      "memory usage: 4.3 MB\n"
     ]
    }
   ],
   "source": [
    "data.info()"
   ]
  },
  {
   "cell_type": "markdown",
   "metadata": {},
   "source": [
    "how should we bin these two features? The distribution below shows a significant left skew and many records receiving ratings of 5. We can bin the full long tail together to represent subpar reviews, bin the 5s, and potentially create a couple more bins to capture the mid range (in this case, maybe 4-4.99 range)"
   ]
  },
  {
   "cell_type": "code",
   "execution_count": 228,
   "metadata": {
    "collapsed": false
   },
   "outputs": [
    {
     "data": {
      "text/plain": [
       "array([<matplotlib.axes._subplots.AxesSubplot object at 0x1206bfd90>,\n",
       "       <matplotlib.axes._subplots.AxesSubplot object at 0x120e96b10>], dtype=object)"
      ]
     },
     "execution_count": 228,
     "metadata": {},
     "output_type": "execute_result"
    },
    {
     "data": {
      "image/png": "[encoded data removed]",
      "text/plain": [
       "<matplotlib.figure.Figure at 0x1207052d0>"
      ]
     },
     "metadata": {},
     "output_type": "display_data"
    }
   ],
   "source": [
    "data.avg_rating_by_driver.hist(bins=50, histtype='bar', by=data.churn, stacked=True)"
   ]
  },
  {
   "cell_type": "code",
   "execution_count": 229,
   "metadata": {
    "collapsed": false
   },
   "outputs": [
    {
     "data": {
      "text/plain": [
       "array([<matplotlib.axes._subplots.AxesSubplot object at 0x120705e10>,\n",
       "       <matplotlib.axes._subplots.AxesSubplot object at 0x120f6db10>], dtype=object)"
      ]
     },
     "execution_count": 229,
     "metadata": {},
     "output_type": "execute_result"
    },
    {
     "data": {
      "image/png": "[encoded data removed]",
      "text/plain": [
       "<matplotlib.figure.Figure at 0x11f8e2f90>"
      ]
     },
     "metadata": {},
     "output_type": "display_data"
    }
   ],
   "source": [
    "data.avg_rating_of_driver.hist(bins=50, histtype='bar', by=data.churn, stacked=True)"
   ]
  },
  {
   "cell_type": "code",
   "execution_count": 230,
   "metadata": {
    "collapsed": true
   },
   "outputs": [],
   "source": [
    "def add_binned_ratings(df, old_col, new_col):\n",
    "    '''\n",
    "    Add column for binned ratings.\n",
    "    \n",
    "    INPUT:\n",
    "    - df (full dataframe)\n",
    "    - old_col (str): column name of average ratings\n",
    "    - new_col (str): new column name for binned average ratings\n",
    "    OUTPUT:\n",
    "    - new dataframe\n",
    "    '''\n",
    "    df[new_col] = pd.cut(df[old_col].copy(), bins=[0., 3.99, 4.99, 5],\n",
    "                            include_lowest=True, right=True)\n",
    "    df[new_col].cat.add_categories('Missing', inplace=True)\n",
    "    df[new_col].fillna('Missing', inplace=True)                        \n",
    "    return df\n",
    "\n",
    "data = add_binned_ratings(data, 'avg_rating_by_driver', 'bin_avg_rating_by_driver')\n",
    "data = add_binned_ratings(data, 'avg_rating_of_driver', 'bin_avg_rating_of_driver')"
   ]
  },
  {
   "cell_type": "code",
   "execution_count": 231,
   "metadata": {
    "collapsed": false
   },
   "outputs": [
    {
     "data": {
      "text/html": [
       "<div>\n",
       "<table border=\"1\" class=\"dataframe\">\n",
       "  <thead>\n",
       "    <tr style=\"text-align: right;\">\n",
       "      <th></th>\n",
       "      <th>avg_dist</th>\n",
       "      <th>avg_rating_by_driver</th>\n",
       "      <th>avg_rating_of_driver</th>\n",
       "      <th>avg_surge</th>\n",
       "      <th>city</th>\n",
       "      <th>last_trip_date</th>\n",
       "      <th>phone</th>\n",
       "      <th>signup_date</th>\n",
       "      <th>surge_pct</th>\n",
       "      <th>trips_in_first_30_days</th>\n",
       "      <th>luxury_car_user</th>\n",
       "      <th>weekday_pct</th>\n",
       "      <th>churn</th>\n",
       "      <th>bin_avg_rating_by_driver</th>\n",
       "      <th>bin_avg_rating_of_driver</th>\n",
       "    </tr>\n",
       "  </thead>\n",
       "  <tbody>\n",
       "    <tr>\n",
       "      <th>0</th>\n",
       "      <td>3.67</td>\n",
       "      <td>5.0</td>\n",
       "      <td>4.7</td>\n",
       "      <td>1.10</td>\n",
       "      <td>King's Landing</td>\n",
       "      <td>2014-06-17</td>\n",
       "      <td>iPhone</td>\n",
       "      <td>2014-01-25</td>\n",
       "      <td>15.4</td>\n",
       "      <td>4</td>\n",
       "      <td>True</td>\n",
       "      <td>46.2</td>\n",
       "      <td>0</td>\n",
       "      <td>(4.99, 5]</td>\n",
       "      <td>(3.99, 4.99]</td>\n",
       "    </tr>\n",
       "    <tr>\n",
       "      <th>1</th>\n",
       "      <td>8.26</td>\n",
       "      <td>5.0</td>\n",
       "      <td>5.0</td>\n",
       "      <td>1.00</td>\n",
       "      <td>Astapor</td>\n",
       "      <td>2014-05-05</td>\n",
       "      <td>Android</td>\n",
       "      <td>2014-01-29</td>\n",
       "      <td>0.0</td>\n",
       "      <td>0</td>\n",
       "      <td>False</td>\n",
       "      <td>50.0</td>\n",
       "      <td>1</td>\n",
       "      <td>(4.99, 5]</td>\n",
       "      <td>(4.99, 5]</td>\n",
       "    </tr>\n",
       "    <tr>\n",
       "      <th>2</th>\n",
       "      <td>0.77</td>\n",
       "      <td>5.0</td>\n",
       "      <td>4.3</td>\n",
       "      <td>1.00</td>\n",
       "      <td>Astapor</td>\n",
       "      <td>2014-01-07</td>\n",
       "      <td>iPhone</td>\n",
       "      <td>2014-01-06</td>\n",
       "      <td>0.0</td>\n",
       "      <td>3</td>\n",
       "      <td>False</td>\n",
       "      <td>100.0</td>\n",
       "      <td>1</td>\n",
       "      <td>(4.99, 5]</td>\n",
       "      <td>(3.99, 4.99]</td>\n",
       "    </tr>\n",
       "    <tr>\n",
       "      <th>3</th>\n",
       "      <td>2.36</td>\n",
       "      <td>4.9</td>\n",
       "      <td>4.6</td>\n",
       "      <td>1.14</td>\n",
       "      <td>King's Landing</td>\n",
       "      <td>2014-06-29</td>\n",
       "      <td>iPhone</td>\n",
       "      <td>2014-01-10</td>\n",
       "      <td>20.0</td>\n",
       "      <td>9</td>\n",
       "      <td>True</td>\n",
       "      <td>80.0</td>\n",
       "      <td>0</td>\n",
       "      <td>(3.99, 4.99]</td>\n",
       "      <td>(3.99, 4.99]</td>\n",
       "    </tr>\n",
       "    <tr>\n",
       "      <th>4</th>\n",
       "      <td>3.13</td>\n",
       "      <td>4.9</td>\n",
       "      <td>4.4</td>\n",
       "      <td>1.19</td>\n",
       "      <td>Winterfell</td>\n",
       "      <td>2014-03-15</td>\n",
       "      <td>Android</td>\n",
       "      <td>2014-01-27</td>\n",
       "      <td>11.8</td>\n",
       "      <td>14</td>\n",
       "      <td>False</td>\n",
       "      <td>82.4</td>\n",
       "      <td>1</td>\n",
       "      <td>(3.99, 4.99]</td>\n",
       "      <td>(3.99, 4.99]</td>\n",
       "    </tr>\n",
       "  </tbody>\n",
       "</table>\n",
       "</div>"
      ],
      "text/plain": [
       "   avg_dist  avg_rating_by_driver  avg_rating_of_driver  avg_surge  \\\n",
       "0      3.67                   5.0                   4.7       1.10   \n",
       "1      8.26                   5.0                   5.0       1.00   \n",
       "2      0.77                   5.0                   4.3       1.00   \n",
       "3      2.36                   4.9                   4.6       1.14   \n",
       "4      3.13                   4.9                   4.4       1.19   \n",
       "\n",
       "             city last_trip_date    phone signup_date  surge_pct  \\\n",
       "0  King's Landing     2014-06-17   iPhone  2014-01-25       15.4   \n",
       "1         Astapor     2014-05-05  Android  2014-01-29        0.0   \n",
       "2         Astapor     2014-01-07   iPhone  2014-01-06        0.0   \n",
       "3  King's Landing     2014-06-29   iPhone  2014-01-10       20.0   \n",
       "4      Winterfell     2014-03-15  Android  2014-01-27       11.8   \n",
       "\n",
       "   trips_in_first_30_days luxury_car_user  weekday_pct  churn  \\\n",
       "0                       4            True         46.2      0   \n",
       "1                       0           False         50.0      1   \n",
       "2                       3           False        100.0      1   \n",
       "3                       9            True         80.0      0   \n",
       "4                      14           False         82.4      1   \n",
       "\n",
       "  bin_avg_rating_by_driver bin_avg_rating_of_driver  \n",
       "0                (4.99, 5]             (3.99, 4.99]  \n",
       "1                (4.99, 5]                (4.99, 5]  \n",
       "2                (4.99, 5]             (3.99, 4.99]  \n",
       "3             (3.99, 4.99]             (3.99, 4.99]  \n",
       "4             (3.99, 4.99]             (3.99, 4.99]  "
      ]
     },
     "execution_count": 231,
     "metadata": {},
     "output_type": "execute_result"
    }
   ],
   "source": [
    "data.head()"
   ]
  },
  {
   "cell_type": "markdown",
   "metadata": {},
   "source": [
    "I've chosen to create 4 bins for each: missing, 5's, 0-3s (left skew), and 4s"
   ]
  },
  {
   "cell_type": "code",
   "execution_count": 232,
   "metadata": {
    "collapsed": false
   },
   "outputs": [
    {
     "data": {
      "text/plain": [
       "(4.99, 5]       28271\n",
       "(3.99, 4.99]    19573\n",
       "[0, 3.99]        1562\n",
       "Missing           198\n",
       "Name: bin_avg_rating_by_driver, dtype: int64"
      ]
     },
     "execution_count": 232,
     "metadata": {},
     "output_type": "execute_result"
    }
   ],
   "source": [
    "data.bin_avg_rating_by_driver.value_counts()"
   ]
  },
  {
   "cell_type": "code",
   "execution_count": 233,
   "metadata": {
    "collapsed": false
   },
   "outputs": [
    {
     "data": {
      "text/plain": [
       "(4.99, 5]       20625\n",
       "(3.99, 4.99]    17165\n",
       "Missing          8026\n",
       "[0, 3.99]        3788\n",
       "Name: bin_avg_rating_of_driver, dtype: int64"
      ]
     },
     "execution_count": 233,
     "metadata": {},
     "output_type": "execute_result"
    }
   ],
   "source": [
    "data.bin_avg_rating_of_driver.value_counts()"
   ]
  },
  {
   "cell_type": "code",
   "execution_count": 234,
   "metadata": {
    "collapsed": false
   },
   "outputs": [],
   "source": [
    "data.drop(['avg_rating_by_driver','avg_rating_of_driver'], axis=1, inplace=True)"
   ]
  },
  {
   "cell_type": "code",
   "execution_count": 235,
   "metadata": {
    "collapsed": false
   },
   "outputs": [
    {
     "data": {
      "text/html": [
       "<div>\n",
       "<table border=\"1\" class=\"dataframe\">\n",
       "  <thead>\n",
       "    <tr style=\"text-align: right;\">\n",
       "      <th></th>\n",
       "      <th>avg_dist</th>\n",
       "      <th>avg_surge</th>\n",
       "      <th>city</th>\n",
       "      <th>last_trip_date</th>\n",
       "      <th>phone</th>\n",
       "      <th>signup_date</th>\n",
       "      <th>surge_pct</th>\n",
       "      <th>trips_in_first_30_days</th>\n",
       "      <th>luxury_car_user</th>\n",
       "      <th>weekday_pct</th>\n",
       "      <th>churn</th>\n",
       "      <th>bin_avg_rating_by_driver</th>\n",
       "      <th>bin_avg_rating_of_driver</th>\n",
       "    </tr>\n",
       "  </thead>\n",
       "  <tbody>\n",
       "    <tr>\n",
       "      <th>0</th>\n",
       "      <td>3.67</td>\n",
       "      <td>1.10</td>\n",
       "      <td>King's Landing</td>\n",
       "      <td>2014-06-17</td>\n",
       "      <td>iPhone</td>\n",
       "      <td>2014-01-25</td>\n",
       "      <td>15.4</td>\n",
       "      <td>4</td>\n",
       "      <td>True</td>\n",
       "      <td>46.2</td>\n",
       "      <td>0</td>\n",
       "      <td>(4.99, 5]</td>\n",
       "      <td>(3.99, 4.99]</td>\n",
       "    </tr>\n",
       "    <tr>\n",
       "      <th>1</th>\n",
       "      <td>8.26</td>\n",
       "      <td>1.00</td>\n",
       "      <td>Astapor</td>\n",
       "      <td>2014-05-05</td>\n",
       "      <td>Android</td>\n",
       "      <td>2014-01-29</td>\n",
       "      <td>0.0</td>\n",
       "      <td>0</td>\n",
       "      <td>False</td>\n",
       "      <td>50.0</td>\n",
       "      <td>1</td>\n",
       "      <td>(4.99, 5]</td>\n",
       "      <td>(4.99, 5]</td>\n",
       "    </tr>\n",
       "    <tr>\n",
       "      <th>2</th>\n",
       "      <td>0.77</td>\n",
       "      <td>1.00</td>\n",
       "      <td>Astapor</td>\n",
       "      <td>2014-01-07</td>\n",
       "      <td>iPhone</td>\n",
       "      <td>2014-01-06</td>\n",
       "      <td>0.0</td>\n",
       "      <td>3</td>\n",
       "      <td>False</td>\n",
       "      <td>100.0</td>\n",
       "      <td>1</td>\n",
       "      <td>(4.99, 5]</td>\n",
       "      <td>(3.99, 4.99]</td>\n",
       "    </tr>\n",
       "    <tr>\n",
       "      <th>3</th>\n",
       "      <td>2.36</td>\n",
       "      <td>1.14</td>\n",
       "      <td>King's Landing</td>\n",
       "      <td>2014-06-29</td>\n",
       "      <td>iPhone</td>\n",
       "      <td>2014-01-10</td>\n",
       "      <td>20.0</td>\n",
       "      <td>9</td>\n",
       "      <td>True</td>\n",
       "      <td>80.0</td>\n",
       "      <td>0</td>\n",
       "      <td>(3.99, 4.99]</td>\n",
       "      <td>(3.99, 4.99]</td>\n",
       "    </tr>\n",
       "    <tr>\n",
       "      <th>4</th>\n",
       "      <td>3.13</td>\n",
       "      <td>1.19</td>\n",
       "      <td>Winterfell</td>\n",
       "      <td>2014-03-15</td>\n",
       "      <td>Android</td>\n",
       "      <td>2014-01-27</td>\n",
       "      <td>11.8</td>\n",
       "      <td>14</td>\n",
       "      <td>False</td>\n",
       "      <td>82.4</td>\n",
       "      <td>1</td>\n",
       "      <td>(3.99, 4.99]</td>\n",
       "      <td>(3.99, 4.99]</td>\n",
       "    </tr>\n",
       "  </tbody>\n",
       "</table>\n",
       "</div>"
      ],
      "text/plain": [
       "   avg_dist  avg_surge            city last_trip_date    phone signup_date  \\\n",
       "0      3.67       1.10  King's Landing     2014-06-17   iPhone  2014-01-25   \n",
       "1      8.26       1.00         Astapor     2014-05-05  Android  2014-01-29   \n",
       "2      0.77       1.00         Astapor     2014-01-07   iPhone  2014-01-06   \n",
       "3      2.36       1.14  King's Landing     2014-06-29   iPhone  2014-01-10   \n",
       "4      3.13       1.19      Winterfell     2014-03-15  Android  2014-01-27   \n",
       "\n",
       "   surge_pct  trips_in_first_30_days luxury_car_user  weekday_pct  churn  \\\n",
       "0       15.4                       4            True         46.2      0   \n",
       "1        0.0                       0           False         50.0      1   \n",
       "2        0.0                       3           False        100.0      1   \n",
       "3       20.0                       9            True         80.0      0   \n",
       "4       11.8                      14           False         82.4      1   \n",
       "\n",
       "  bin_avg_rating_by_driver bin_avg_rating_of_driver  \n",
       "0                (4.99, 5]             (3.99, 4.99]  \n",
       "1                (4.99, 5]                (4.99, 5]  \n",
       "2                (4.99, 5]             (3.99, 4.99]  \n",
       "3             (3.99, 4.99]             (3.99, 4.99]  \n",
       "4             (3.99, 4.99]             (3.99, 4.99]  "
      ]
     },
     "execution_count": 235,
     "metadata": {},
     "output_type": "execute_result"
    }
   ],
   "source": [
    "data.head()"
   ]
  },
  {
   "cell_type": "markdown",
   "metadata": {},
   "source": [
    "EDA (working on this)"
   ]
  },
  {
   "cell_type": "markdown",
   "metadata": {},
   "source": [
    "hypotheses\n",
    "-price matters: avg_surge is correlated with churn, surge_pct correlated with churn\n",
    "-high ratings matter: higher bin negatively correlates with churn \n",
    "-high usage matters: avg_dist * trips_in_first_30_days as proxy for total distance ridden, negatively correlated with churn\n",
    "-phone matters: iPhone users have better experiences with app than Android users bc of phone software fragmentation\n",
    "-high weekday usage matters: high weekday_pct might be an indicator that one is reliant on a ride share service for their commute, therefore less likely to churn\n",
    "-initial usage habits matter: trips_in_first_30_days is negatievly correlated with churn\n",
    "-lack of ratings by user could indicate underutilization of service features, low level utility\n",
    "-lack of ratings by driver could indicate perception of poor customer experience"
   ]
  },
  {
   "cell_type": "code",
   "execution_count": 236,
   "metadata": {
    "collapsed": false
   },
   "outputs": [
    {
     "data": {
      "text/html": [
       "<div>\n",
       "<table border=\"1\" class=\"dataframe\">\n",
       "  <thead>\n",
       "    <tr style=\"text-align: right;\">\n",
       "      <th></th>\n",
       "      <th>count</th>\n",
       "      <th>mean</th>\n",
       "      <th>std</th>\n",
       "      <th>min</th>\n",
       "      <th>25%</th>\n",
       "      <th>50%</th>\n",
       "      <th>75%</th>\n",
       "      <th>max</th>\n",
       "    </tr>\n",
       "  </thead>\n",
       "  <tbody>\n",
       "    <tr>\n",
       "      <th>avg_dist</th>\n",
       "      <td>49604.0</td>\n",
       "      <td>5.785418</td>\n",
       "      <td>5.669709</td>\n",
       "      <td>0.0</td>\n",
       "      <td>2.42</td>\n",
       "      <td>3.88</td>\n",
       "      <td>6.93</td>\n",
       "      <td>160.96</td>\n",
       "    </tr>\n",
       "    <tr>\n",
       "      <th>avg_surge</th>\n",
       "      <td>49604.0</td>\n",
       "      <td>1.074991</td>\n",
       "      <td>0.222666</td>\n",
       "      <td>1.0</td>\n",
       "      <td>1.00</td>\n",
       "      <td>1.00</td>\n",
       "      <td>1.05</td>\n",
       "      <td>8.00</td>\n",
       "    </tr>\n",
       "    <tr>\n",
       "      <th>surge_pct</th>\n",
       "      <td>49604.0</td>\n",
       "      <td>8.875314</td>\n",
       "      <td>19.989018</td>\n",
       "      <td>0.0</td>\n",
       "      <td>0.00</td>\n",
       "      <td>0.00</td>\n",
       "      <td>8.70</td>\n",
       "      <td>100.00</td>\n",
       "    </tr>\n",
       "    <tr>\n",
       "      <th>trips_in_first_30_days</th>\n",
       "      <td>49604.0</td>\n",
       "      <td>2.277256</td>\n",
       "      <td>3.793300</td>\n",
       "      <td>0.0</td>\n",
       "      <td>0.00</td>\n",
       "      <td>1.00</td>\n",
       "      <td>3.00</td>\n",
       "      <td>125.00</td>\n",
       "    </tr>\n",
       "    <tr>\n",
       "      <th>weekday_pct</th>\n",
       "      <td>49604.0</td>\n",
       "      <td>60.883832</td>\n",
       "      <td>37.086239</td>\n",
       "      <td>0.0</td>\n",
       "      <td>33.30</td>\n",
       "      <td>66.70</td>\n",
       "      <td>100.00</td>\n",
       "      <td>100.00</td>\n",
       "    </tr>\n",
       "    <tr>\n",
       "      <th>churn</th>\n",
       "      <td>49604.0</td>\n",
       "      <td>0.623599</td>\n",
       "      <td>0.484487</td>\n",
       "      <td>0.0</td>\n",
       "      <td>0.00</td>\n",
       "      <td>1.00</td>\n",
       "      <td>1.00</td>\n",
       "      <td>1.00</td>\n",
       "    </tr>\n",
       "  </tbody>\n",
       "</table>\n",
       "</div>"
      ],
      "text/plain": [
       "                          count       mean        std  min    25%    50%  \\\n",
       "avg_dist                49604.0   5.785418   5.669709  0.0   2.42   3.88   \n",
       "avg_surge               49604.0   1.074991   0.222666  1.0   1.00   1.00   \n",
       "surge_pct               49604.0   8.875314  19.989018  0.0   0.00   0.00   \n",
       "trips_in_first_30_days  49604.0   2.277256   3.793300  0.0   0.00   1.00   \n",
       "weekday_pct             49604.0  60.883832  37.086239  0.0  33.30  66.70   \n",
       "churn                   49604.0   0.623599   0.484487  0.0   0.00   1.00   \n",
       "\n",
       "                           75%     max  \n",
       "avg_dist                  6.93  160.96  \n",
       "avg_surge                 1.05    8.00  \n",
       "surge_pct                 8.70  100.00  \n",
       "trips_in_first_30_days    3.00  125.00  \n",
       "weekday_pct             100.00  100.00  \n",
       "churn                     1.00    1.00  "
      ]
     },
     "execution_count": 236,
     "metadata": {},
     "output_type": "execute_result"
    }
   ],
   "source": [
    "data.describe().T"
   ]
  },
  {
   "cell_type": "code",
   "execution_count": 237,
   "metadata": {
    "collapsed": false
   },
   "outputs": [
    {
     "data": {
      "text/html": [
       "<div>\n",
       "<table border=\"1\" class=\"dataframe\">\n",
       "  <thead>\n",
       "    <tr style=\"text-align: right;\">\n",
       "      <th></th>\n",
       "      <th>avg_dist</th>\n",
       "      <th>avg_surge</th>\n",
       "      <th>surge_pct</th>\n",
       "      <th>trips_in_first_30_days</th>\n",
       "      <th>luxury_car_user</th>\n",
       "      <th>weekday_pct</th>\n",
       "    </tr>\n",
       "    <tr>\n",
       "      <th>churn</th>\n",
       "      <th></th>\n",
       "      <th></th>\n",
       "      <th></th>\n",
       "      <th></th>\n",
       "      <th></th>\n",
       "      <th></th>\n",
       "    </tr>\n",
       "  </thead>\n",
       "  <tbody>\n",
       "    <tr>\n",
       "      <th>0</th>\n",
       "      <td>5.113930</td>\n",
       "      <td>1.073834</td>\n",
       "      <td>9.165615</td>\n",
       "      <td>3.304804</td>\n",
       "      <td>0.503990</td>\n",
       "      <td>61.344208</td>\n",
       "    </tr>\n",
       "    <tr>\n",
       "      <th>1</th>\n",
       "      <td>6.190725</td>\n",
       "      <td>1.075689</td>\n",
       "      <td>8.700091</td>\n",
       "      <td>1.657033</td>\n",
       "      <td>0.297482</td>\n",
       "      <td>60.605952</td>\n",
       "    </tr>\n",
       "  </tbody>\n",
       "</table>\n",
       "</div>"
      ],
      "text/plain": [
       "       avg_dist  avg_surge  surge_pct  trips_in_first_30_days  \\\n",
       "churn                                                           \n",
       "0      5.113930   1.073834   9.165615                3.304804   \n",
       "1      6.190725   1.075689   8.700091                1.657033   \n",
       "\n",
       "       luxury_car_user  weekday_pct  \n",
       "churn                                \n",
       "0             0.503990    61.344208  \n",
       "1             0.297482    60.605952  "
      ]
     },
     "execution_count": 237,
     "metadata": {},
     "output_type": "execute_result"
    }
   ],
   "source": [
    "data.groupby(['churn']).mean()"
   ]
  },
  {
   "cell_type": "code",
   "execution_count": 238,
   "metadata": {
    "collapsed": false
   },
   "outputs": [
    {
     "data": {
      "text/html": [
       "<div>\n",
       "<table border=\"1\" class=\"dataframe\">\n",
       "  <thead>\n",
       "    <tr>\n",
       "      <th>churn</th>\n",
       "      <th colspan=\"8\" halign=\"left\">0</th>\n",
       "      <th colspan=\"8\" halign=\"left\">1</th>\n",
       "    </tr>\n",
       "    <tr>\n",
       "      <th></th>\n",
       "      <th>count</th>\n",
       "      <th>mean</th>\n",
       "      <th>std</th>\n",
       "      <th>min</th>\n",
       "      <th>25%</th>\n",
       "      <th>50%</th>\n",
       "      <th>75%</th>\n",
       "      <th>max</th>\n",
       "      <th>count</th>\n",
       "      <th>mean</th>\n",
       "      <th>std</th>\n",
       "      <th>min</th>\n",
       "      <th>25%</th>\n",
       "      <th>50%</th>\n",
       "      <th>75%</th>\n",
       "      <th>max</th>\n",
       "    </tr>\n",
       "  </thead>\n",
       "  <tbody>\n",
       "    <tr>\n",
       "      <th>avg_dist</th>\n",
       "      <td>18671.0</td>\n",
       "      <td>5.113930</td>\n",
       "      <td>4.617779</td>\n",
       "      <td>0.0</td>\n",
       "      <td>2.56</td>\n",
       "      <td>3.73</td>\n",
       "      <td>5.89</td>\n",
       "      <td>160.96</td>\n",
       "      <td>30933.0</td>\n",
       "      <td>6.190725</td>\n",
       "      <td>6.184010</td>\n",
       "      <td>0.0</td>\n",
       "      <td>2.31</td>\n",
       "      <td>4.03</td>\n",
       "      <td>7.78</td>\n",
       "      <td>79.69</td>\n",
       "    </tr>\n",
       "    <tr>\n",
       "      <th>avg_surge</th>\n",
       "      <td>18671.0</td>\n",
       "      <td>1.073834</td>\n",
       "      <td>0.162905</td>\n",
       "      <td>1.0</td>\n",
       "      <td>1.00</td>\n",
       "      <td>1.00</td>\n",
       "      <td>1.09</td>\n",
       "      <td>4.50</td>\n",
       "      <td>30933.0</td>\n",
       "      <td>1.075689</td>\n",
       "      <td>0.251969</td>\n",
       "      <td>1.0</td>\n",
       "      <td>1.00</td>\n",
       "      <td>1.00</td>\n",
       "      <td>1.00</td>\n",
       "      <td>8.00</td>\n",
       "    </tr>\n",
       "    <tr>\n",
       "      <th>surge_pct</th>\n",
       "      <td>18671.0</td>\n",
       "      <td>9.165615</td>\n",
       "      <td>15.599652</td>\n",
       "      <td>0.0</td>\n",
       "      <td>0.00</td>\n",
       "      <td>0.00</td>\n",
       "      <td>13.30</td>\n",
       "      <td>100.00</td>\n",
       "      <td>30933.0</td>\n",
       "      <td>8.700091</td>\n",
       "      <td>22.221133</td>\n",
       "      <td>0.0</td>\n",
       "      <td>0.00</td>\n",
       "      <td>0.00</td>\n",
       "      <td>0.00</td>\n",
       "      <td>100.00</td>\n",
       "    </tr>\n",
       "    <tr>\n",
       "      <th>trips_in_first_30_days</th>\n",
       "      <td>18671.0</td>\n",
       "      <td>3.304804</td>\n",
       "      <td>4.985057</td>\n",
       "      <td>0.0</td>\n",
       "      <td>0.00</td>\n",
       "      <td>2.00</td>\n",
       "      <td>4.00</td>\n",
       "      <td>125.00</td>\n",
       "      <td>30933.0</td>\n",
       "      <td>1.657033</td>\n",
       "      <td>2.655767</td>\n",
       "      <td>0.0</td>\n",
       "      <td>0.00</td>\n",
       "      <td>1.00</td>\n",
       "      <td>2.00</td>\n",
       "      <td>73.00</td>\n",
       "    </tr>\n",
       "    <tr>\n",
       "      <th>weekday_pct</th>\n",
       "      <td>18671.0</td>\n",
       "      <td>61.344208</td>\n",
       "      <td>29.512875</td>\n",
       "      <td>0.0</td>\n",
       "      <td>44.40</td>\n",
       "      <td>64.30</td>\n",
       "      <td>84.60</td>\n",
       "      <td>100.00</td>\n",
       "      <td>30933.0</td>\n",
       "      <td>60.605952</td>\n",
       "      <td>40.983689</td>\n",
       "      <td>0.0</td>\n",
       "      <td>16.70</td>\n",
       "      <td>69.20</td>\n",
       "      <td>100.00</td>\n",
       "      <td>100.00</td>\n",
       "    </tr>\n",
       "  </tbody>\n",
       "</table>\n",
       "</div>"
      ],
      "text/plain": [
       "churn                         0                                           \\\n",
       "                          count       mean        std  min    25%    50%   \n",
       "avg_dist                18671.0   5.113930   4.617779  0.0   2.56   3.73   \n",
       "avg_surge               18671.0   1.073834   0.162905  1.0   1.00   1.00   \n",
       "surge_pct               18671.0   9.165615  15.599652  0.0   0.00   0.00   \n",
       "trips_in_first_30_days  18671.0   3.304804   4.985057  0.0   0.00   2.00   \n",
       "weekday_pct             18671.0  61.344208  29.512875  0.0  44.40  64.30   \n",
       "\n",
       "churn                                        1                             \\\n",
       "                          75%     max    count       mean        std  min   \n",
       "avg_dist                 5.89  160.96  30933.0   6.190725   6.184010  0.0   \n",
       "avg_surge                1.09    4.50  30933.0   1.075689   0.251969  1.0   \n",
       "surge_pct               13.30  100.00  30933.0   8.700091  22.221133  0.0   \n",
       "trips_in_first_30_days   4.00  125.00  30933.0   1.657033   2.655767  0.0   \n",
       "weekday_pct             84.60  100.00  30933.0  60.605952  40.983689  0.0   \n",
       "\n",
       "churn                                                 \n",
       "                          25%    50%     75%     max  \n",
       "avg_dist                 2.31   4.03    7.78   79.69  \n",
       "avg_surge                1.00   1.00    1.00    8.00  \n",
       "surge_pct                0.00   0.00    0.00  100.00  \n",
       "trips_in_first_30_days   0.00   1.00    2.00   73.00  \n",
       "weekday_pct             16.70  69.20  100.00  100.00  "
      ]
     },
     "execution_count": 238,
     "metadata": {},
     "output_type": "execute_result"
    }
   ],
   "source": [
    "data.groupby(['churn']).describe().T"
   ]
  },
  {
   "cell_type": "markdown",
   "metadata": {},
   "source": [
    "surprisingly, churners have a higher average distance mean and median, higher distance in the 75th percentile. Not surprisingly, they take fewer trips in the first 30 days on average (mean and median).  These could be linked somehow (eg riders who use the service for relatively rare one-offs like airport drop offs.) Comparing medians of the first two groups, churners ride on 1x in the first 30 whereas non-churners ride 2x.  There could be an action here - getting users to ride 2x via an incentive program. \n",
    "\n",
    "Churners seem much more likely to be weekday-only riders. In fact, this looks to be a sizable group: of the 31K churners, a full 1/4 of them are weekday only.  May be worth looking at these users as fundamentaly different than the rest.\n",
    "\n",
    "surge pct doesn't seem to have a big impact.  Non-churners actually have a higher rate of surge_pct. \n",
    "\n",
    "\n",
    "\n"
   ]
  },
  {
   "cell_type": "code",
   "execution_count": 239,
   "metadata": {
    "collapsed": false
   },
   "outputs": [
    {
     "data": {
      "text/html": [
       "<div>\n",
       "<table border=\"1\" class=\"dataframe\">\n",
       "  <thead>\n",
       "    <tr style=\"text-align: right;\">\n",
       "      <th>phone</th>\n",
       "      <th>Android</th>\n",
       "      <th>empty_phone</th>\n",
       "      <th>iPhone</th>\n",
       "    </tr>\n",
       "    <tr>\n",
       "      <th>churn</th>\n",
       "      <th></th>\n",
       "      <th></th>\n",
       "      <th></th>\n",
       "    </tr>\n",
       "  </thead>\n",
       "  <tbody>\n",
       "    <tr>\n",
       "      <th>0</th>\n",
       "      <td>0.209426</td>\n",
       "      <td>NaN</td>\n",
       "      <td>0.448933</td>\n",
       "    </tr>\n",
       "    <tr>\n",
       "      <th>1</th>\n",
       "      <td>0.790574</td>\n",
       "      <td>NaN</td>\n",
       "      <td>0.551067</td>\n",
       "    </tr>\n",
       "  </tbody>\n",
       "</table>\n",
       "</div>"
      ],
      "text/plain": [
       "phone   Android  empty_phone    iPhone\n",
       "churn                                 \n",
       "0      0.209426          NaN  0.448933\n",
       "1      0.790574          NaN  0.551067"
      ]
     },
     "execution_count": 239,
     "metadata": {},
     "output_type": "execute_result"
    }
   ],
   "source": [
    "pd.crosstab(data.churn, data.phone).apply(lambda r: r/r.sum(), axis=0)"
   ]
  },
  {
   "cell_type": "markdown",
   "metadata": {},
   "source": [
    "iphone users much less likely to churn than Android users"
   ]
  },
  {
   "cell_type": "code",
   "execution_count": 240,
   "metadata": {
    "collapsed": false
   },
   "outputs": [
    {
     "data": {
      "text/html": [
       "<div>\n",
       "<table border=\"1\" class=\"dataframe\">\n",
       "  <thead>\n",
       "    <tr>\n",
       "      <th>churn</th>\n",
       "      <th colspan=\"16\" halign=\"left\">0</th>\n",
       "      <th colspan=\"16\" halign=\"left\">1</th>\n",
       "    </tr>\n",
       "    <tr>\n",
       "      <th>phone</th>\n",
       "      <th colspan=\"8\" halign=\"left\">Android</th>\n",
       "      <th colspan=\"8\" halign=\"left\">iPhone</th>\n",
       "      <th colspan=\"8\" halign=\"left\">Android</th>\n",
       "      <th colspan=\"8\" halign=\"left\">iPhone</th>\n",
       "    </tr>\n",
       "    <tr>\n",
       "      <th></th>\n",
       "      <th>count</th>\n",
       "      <th>mean</th>\n",
       "      <th>std</th>\n",
       "      <th>min</th>\n",
       "      <th>25%</th>\n",
       "      <th>50%</th>\n",
       "      <th>75%</th>\n",
       "      <th>max</th>\n",
       "      <th>count</th>\n",
       "      <th>mean</th>\n",
       "      <th>std</th>\n",
       "      <th>min</th>\n",
       "      <th>25%</th>\n",
       "      <th>50%</th>\n",
       "      <th>75%</th>\n",
       "      <th>max</th>\n",
       "      <th>count</th>\n",
       "      <th>mean</th>\n",
       "      <th>std</th>\n",
       "      <th>min</th>\n",
       "      <th>25%</th>\n",
       "      <th>50%</th>\n",
       "      <th>75%</th>\n",
       "      <th>max</th>\n",
       "      <th>count</th>\n",
       "      <th>mean</th>\n",
       "      <th>std</th>\n",
       "      <th>min</th>\n",
       "      <th>25%</th>\n",
       "      <th>50%</th>\n",
       "      <th>75%</th>\n",
       "      <th>max</th>\n",
       "    </tr>\n",
       "  </thead>\n",
       "  <tbody>\n",
       "    <tr>\n",
       "      <th>avg_dist</th>\n",
       "      <td>3146.0</td>\n",
       "      <td>5.165420</td>\n",
       "      <td>5.163366</td>\n",
       "      <td>0.0</td>\n",
       "      <td>2.6725</td>\n",
       "      <td>3.84</td>\n",
       "      <td>5.940</td>\n",
       "      <td>160.96</td>\n",
       "      <td>15525.0</td>\n",
       "      <td>5.103496</td>\n",
       "      <td>4.499278</td>\n",
       "      <td>0.0</td>\n",
       "      <td>2.53</td>\n",
       "      <td>3.7</td>\n",
       "      <td>5.88</td>\n",
       "      <td>79.34</td>\n",
       "      <td>11876.0</td>\n",
       "      <td>6.194195</td>\n",
       "      <td>6.084339</td>\n",
       "      <td>0.0</td>\n",
       "      <td>2.370</td>\n",
       "      <td>4.09</td>\n",
       "      <td>7.76</td>\n",
       "      <td>63.15</td>\n",
       "      <td>19057.0</td>\n",
       "      <td>6.188563</td>\n",
       "      <td>6.245478</td>\n",
       "      <td>0.0</td>\n",
       "      <td>2.28</td>\n",
       "      <td>3.99</td>\n",
       "      <td>7.8</td>\n",
       "      <td>79.69</td>\n",
       "    </tr>\n",
       "    <tr>\n",
       "      <th>avg_surge</th>\n",
       "      <td>3146.0</td>\n",
       "      <td>1.062508</td>\n",
       "      <td>0.151789</td>\n",
       "      <td>1.0</td>\n",
       "      <td>1.0000</td>\n",
       "      <td>1.00</td>\n",
       "      <td>1.070</td>\n",
       "      <td>4.25</td>\n",
       "      <td>15525.0</td>\n",
       "      <td>1.076129</td>\n",
       "      <td>0.164976</td>\n",
       "      <td>1.0</td>\n",
       "      <td>1.00</td>\n",
       "      <td>1.0</td>\n",
       "      <td>1.10</td>\n",
       "      <td>4.50</td>\n",
       "      <td>11876.0</td>\n",
       "      <td>1.074158</td>\n",
       "      <td>0.246802</td>\n",
       "      <td>1.0</td>\n",
       "      <td>1.000</td>\n",
       "      <td>1.00</td>\n",
       "      <td>1.00</td>\n",
       "      <td>5.00</td>\n",
       "      <td>19057.0</td>\n",
       "      <td>1.076643</td>\n",
       "      <td>0.255138</td>\n",
       "      <td>1.0</td>\n",
       "      <td>1.00</td>\n",
       "      <td>1.00</td>\n",
       "      <td>1.0</td>\n",
       "      <td>8.00</td>\n",
       "    </tr>\n",
       "    <tr>\n",
       "      <th>surge_pct</th>\n",
       "      <td>3146.0</td>\n",
       "      <td>8.181659</td>\n",
       "      <td>15.406604</td>\n",
       "      <td>0.0</td>\n",
       "      <td>0.0000</td>\n",
       "      <td>0.00</td>\n",
       "      <td>11.100</td>\n",
       "      <td>100.00</td>\n",
       "      <td>15525.0</td>\n",
       "      <td>9.365005</td>\n",
       "      <td>15.631427</td>\n",
       "      <td>0.0</td>\n",
       "      <td>0.00</td>\n",
       "      <td>0.0</td>\n",
       "      <td>14.00</td>\n",
       "      <td>100.00</td>\n",
       "      <td>11876.0</td>\n",
       "      <td>8.635433</td>\n",
       "      <td>22.479721</td>\n",
       "      <td>0.0</td>\n",
       "      <td>0.000</td>\n",
       "      <td>0.00</td>\n",
       "      <td>0.00</td>\n",
       "      <td>100.00</td>\n",
       "      <td>19057.0</td>\n",
       "      <td>8.740384</td>\n",
       "      <td>22.058948</td>\n",
       "      <td>0.0</td>\n",
       "      <td>0.00</td>\n",
       "      <td>0.00</td>\n",
       "      <td>0.0</td>\n",
       "      <td>100.00</td>\n",
       "    </tr>\n",
       "    <tr>\n",
       "      <th>trips_in_first_30_days</th>\n",
       "      <td>3146.0</td>\n",
       "      <td>2.985696</td>\n",
       "      <td>4.604841</td>\n",
       "      <td>0.0</td>\n",
       "      <td>0.0000</td>\n",
       "      <td>2.00</td>\n",
       "      <td>4.000</td>\n",
       "      <td>47.00</td>\n",
       "      <td>15525.0</td>\n",
       "      <td>3.369469</td>\n",
       "      <td>5.056310</td>\n",
       "      <td>0.0</td>\n",
       "      <td>0.00</td>\n",
       "      <td>2.0</td>\n",
       "      <td>4.00</td>\n",
       "      <td>125.00</td>\n",
       "      <td>11876.0</td>\n",
       "      <td>1.656618</td>\n",
       "      <td>2.596349</td>\n",
       "      <td>0.0</td>\n",
       "      <td>0.000</td>\n",
       "      <td>1.00</td>\n",
       "      <td>2.00</td>\n",
       "      <td>73.00</td>\n",
       "      <td>19057.0</td>\n",
       "      <td>1.657291</td>\n",
       "      <td>2.692200</td>\n",
       "      <td>0.0</td>\n",
       "      <td>0.00</td>\n",
       "      <td>1.00</td>\n",
       "      <td>2.0</td>\n",
       "      <td>56.00</td>\n",
       "    </tr>\n",
       "    <tr>\n",
       "      <th>weekday_pct</th>\n",
       "      <td>3146.0</td>\n",
       "      <td>60.739479</td>\n",
       "      <td>31.011584</td>\n",
       "      <td>0.0</td>\n",
       "      <td>42.9000</td>\n",
       "      <td>65.20</td>\n",
       "      <td>86.075</td>\n",
       "      <td>100.00</td>\n",
       "      <td>15525.0</td>\n",
       "      <td>61.466750</td>\n",
       "      <td>29.199318</td>\n",
       "      <td>0.0</td>\n",
       "      <td>44.40</td>\n",
       "      <td>64.0</td>\n",
       "      <td>84.20</td>\n",
       "      <td>100.00</td>\n",
       "      <td>11876.0</td>\n",
       "      <td>60.314121</td>\n",
       "      <td>41.193738</td>\n",
       "      <td>0.0</td>\n",
       "      <td>9.775</td>\n",
       "      <td>68.90</td>\n",
       "      <td>100.00</td>\n",
       "      <td>100.00</td>\n",
       "      <td>19057.0</td>\n",
       "      <td>60.787816</td>\n",
       "      <td>40.852273</td>\n",
       "      <td>0.0</td>\n",
       "      <td>20.00</td>\n",
       "      <td>69.60</td>\n",
       "      <td>100.0</td>\n",
       "      <td>100.00</td>\n",
       "    </tr>\n",
       "  </tbody>\n",
       "</table>\n",
       "</div>"
      ],
      "text/plain": [
       "churn                        0                                             \\\n",
       "phone                  Android                                              \n",
       "                         count       mean        std  min      25%    50%   \n",
       "avg_dist                3146.0   5.165420   5.163366  0.0   2.6725   3.84   \n",
       "avg_surge               3146.0   1.062508   0.151789  1.0   1.0000   1.00   \n",
       "surge_pct               3146.0   8.181659  15.406604  0.0   0.0000   0.00   \n",
       "trips_in_first_30_days  3146.0   2.985696   4.604841  0.0   0.0000   2.00   \n",
       "weekday_pct             3146.0  60.739479  31.011584  0.0  42.9000  65.20   \n",
       "\n",
       "churn                                                                       \\\n",
       "phone                                    iPhone                              \n",
       "                           75%     max    count       mean        std  min   \n",
       "avg_dist                 5.940  160.96  15525.0   5.103496   4.499278  0.0   \n",
       "avg_surge                1.070    4.25  15525.0   1.076129   0.164976  1.0   \n",
       "surge_pct               11.100  100.00  15525.0   9.365005  15.631427  0.0   \n",
       "trips_in_first_30_days   4.000   47.00  15525.0   3.369469   5.056310  0.0   \n",
       "weekday_pct             86.075  100.00  15525.0  61.466750  29.199318  0.0   \n",
       "\n",
       "churn                                                     1             \\\n",
       "phone                                               Android              \n",
       "                          25%   50%    75%     max    count       mean   \n",
       "avg_dist                 2.53   3.7   5.88   79.34  11876.0   6.194195   \n",
       "avg_surge                1.00   1.0   1.10    4.50  11876.0   1.074158   \n",
       "surge_pct                0.00   0.0  14.00  100.00  11876.0   8.635433   \n",
       "trips_in_first_30_days   0.00   2.0   4.00  125.00  11876.0   1.656618   \n",
       "weekday_pct             44.40  64.0  84.20  100.00  11876.0  60.314121   \n",
       "\n",
       "churn                                                                          \\\n",
       "phone                                                                  iPhone   \n",
       "                              std  min    25%    50%     75%     max    count   \n",
       "avg_dist                 6.084339  0.0  2.370   4.09    7.76   63.15  19057.0   \n",
       "avg_surge                0.246802  1.0  1.000   1.00    1.00    5.00  19057.0   \n",
       "surge_pct               22.479721  0.0  0.000   0.00    0.00  100.00  19057.0   \n",
       "trips_in_first_30_days   2.596349  0.0  0.000   1.00    2.00   73.00  19057.0   \n",
       "weekday_pct             41.193738  0.0  9.775  68.90  100.00  100.00  19057.0   \n",
       "\n",
       "churn                                                                           \n",
       "phone                                                                           \n",
       "                             mean        std  min    25%    50%    75%     max  \n",
       "avg_dist                 6.188563   6.245478  0.0   2.28   3.99    7.8   79.69  \n",
       "avg_surge                1.076643   0.255138  1.0   1.00   1.00    1.0    8.00  \n",
       "surge_pct                8.740384  22.058948  0.0   0.00   0.00    0.0  100.00  \n",
       "trips_in_first_30_days   1.657291   2.692200  0.0   0.00   1.00    2.0   56.00  \n",
       "weekday_pct             60.787816  40.852273  0.0  20.00  69.60  100.0  100.00  "
      ]
     },
     "execution_count": 240,
     "metadata": {},
     "output_type": "execute_result"
    }
   ],
   "source": [
    "pd.set_option('display.max_columns', 500)\n",
    "data[(data.phone == ['iPhone'])|(data.phone =='Android')].groupby(['churn','phone']).describe().T"
   ]
  },
  {
   "cell_type": "markdown",
   "metadata": {},
   "source": []
  },
  {
   "cell_type": "code",
   "execution_count": 241,
   "metadata": {
    "collapsed": false
   },
   "outputs": [
    {
     "data": {
      "text/html": [
       "<div>\n",
       "<table border=\"1\" class=\"dataframe\">\n",
       "  <thead>\n",
       "    <tr style=\"text-align: right;\">\n",
       "      <th>luxury_car_user</th>\n",
       "      <th>False</th>\n",
       "      <th>True</th>\n",
       "    </tr>\n",
       "    <tr>\n",
       "      <th>churn</th>\n",
       "      <th></th>\n",
       "      <th></th>\n",
       "    </tr>\n",
       "  </thead>\n",
       "  <tbody>\n",
       "    <tr>\n",
       "      <th>0</th>\n",
       "      <td>0.298819</td>\n",
       "      <td>0.505588</td>\n",
       "    </tr>\n",
       "    <tr>\n",
       "      <th>1</th>\n",
       "      <td>0.701181</td>\n",
       "      <td>0.494412</td>\n",
       "    </tr>\n",
       "  </tbody>\n",
       "</table>\n",
       "</div>"
      ],
      "text/plain": [
       "luxury_car_user     False     True \n",
       "churn                              \n",
       "0                0.298819  0.505588\n",
       "1                0.701181  0.494412"
      ]
     },
     "execution_count": 241,
     "metadata": {},
     "output_type": "execute_result"
    }
   ],
   "source": [
    "pd.crosstab(data.churn, data.luxury_car_user).apply(lambda r: r/r.sum(), axis=0)"
   ]
  },
  {
   "cell_type": "markdown",
   "metadata": {},
   "source": [
    "luxury car users much less likely to churn"
   ]
  },
  {
   "cell_type": "code",
   "execution_count": 242,
   "metadata": {
    "collapsed": false
   },
   "outputs": [
    {
     "data": {
      "text/html": [
       "<div>\n",
       "<table border=\"1\" class=\"dataframe\">\n",
       "  <thead>\n",
       "    <tr style=\"text-align: right;\">\n",
       "      <th>city</th>\n",
       "      <th>Astapor</th>\n",
       "      <th>King's Landing</th>\n",
       "      <th>Winterfell</th>\n",
       "    </tr>\n",
       "    <tr>\n",
       "      <th>churn</th>\n",
       "      <th></th>\n",
       "      <th></th>\n",
       "      <th></th>\n",
       "    </tr>\n",
       "  </thead>\n",
       "  <tbody>\n",
       "    <tr>\n",
       "      <th>0</th>\n",
       "      <td>0.255773</td>\n",
       "      <td>0.628353</td>\n",
       "      <td>0.352346</td>\n",
       "    </tr>\n",
       "    <tr>\n",
       "      <th>1</th>\n",
       "      <td>0.744227</td>\n",
       "      <td>0.371647</td>\n",
       "      <td>0.647654</td>\n",
       "    </tr>\n",
       "  </tbody>\n",
       "</table>\n",
       "</div>"
      ],
      "text/plain": [
       "city    Astapor  King's Landing  Winterfell\n",
       "churn                                      \n",
       "0      0.255773        0.628353    0.352346\n",
       "1      0.744227        0.371647    0.647654"
      ]
     },
     "execution_count": 242,
     "metadata": {},
     "output_type": "execute_result"
    }
   ],
   "source": [
    "pd.crosstab(data.churn, data.city).apply(lambda r: r/r.sum(), axis=0)"
   ]
  },
  {
   "cell_type": "markdown",
   "metadata": {},
   "source": [
    "city looks to be very significant"
   ]
  },
  {
   "cell_type": "code",
   "execution_count": 243,
   "metadata": {
    "collapsed": false
   },
   "outputs": [
    {
     "data": {
      "text/html": [
       "<div>\n",
       "<table border=\"1\" class=\"dataframe\">\n",
       "  <thead>\n",
       "    <tr style=\"text-align: right;\">\n",
       "      <th>bin_avg_rating_by_driver</th>\n",
       "      <th>[0, 3.99]</th>\n",
       "      <th>(3.99, 4.99]</th>\n",
       "      <th>(4.99, 5]</th>\n",
       "      <th>Missing</th>\n",
       "    </tr>\n",
       "    <tr>\n",
       "      <th>churn</th>\n",
       "      <th></th>\n",
       "      <th></th>\n",
       "      <th></th>\n",
       "      <th></th>\n",
       "    </tr>\n",
       "  </thead>\n",
       "  <tbody>\n",
       "    <tr>\n",
       "      <th>0</th>\n",
       "      <td>0.211268</td>\n",
       "      <td>0.583457</td>\n",
       "      <td>0.243536</td>\n",
       "      <td>0.181818</td>\n",
       "    </tr>\n",
       "    <tr>\n",
       "      <th>1</th>\n",
       "      <td>0.788732</td>\n",
       "      <td>0.416543</td>\n",
       "      <td>0.756464</td>\n",
       "      <td>0.818182</td>\n",
       "    </tr>\n",
       "  </tbody>\n",
       "</table>\n",
       "</div>"
      ],
      "text/plain": [
       "bin_avg_rating_by_driver  [0, 3.99]  (3.99, 4.99]  (4.99, 5]   Missing\n",
       "churn                                                                 \n",
       "0                          0.211268      0.583457   0.243536  0.181818\n",
       "1                          0.788732      0.416543   0.756464  0.818182"
      ]
     },
     "execution_count": 243,
     "metadata": {},
     "output_type": "execute_result"
    }
   ],
   "source": [
    "pd.crosstab(data.churn, data.bin_avg_rating_by_driver).apply(lambda r: r/r.sum(), axis=0)"
   ]
  },
  {
   "cell_type": "markdown",
   "metadata": {},
   "source": [
    "weird distributions here: poor and high ratings more likely to churn than mid-range ratings.  Missing very high"
   ]
  },
  {
   "cell_type": "code",
   "execution_count": 244,
   "metadata": {
    "collapsed": false
   },
   "outputs": [
    {
     "data": {
      "text/html": [
       "<div>\n",
       "<table border=\"1\" class=\"dataframe\">\n",
       "  <thead>\n",
       "    <tr style=\"text-align: right;\">\n",
       "      <th>bin_avg_rating_of_driver</th>\n",
       "      <th>[0, 3.99]</th>\n",
       "      <th>(3.99, 4.99]</th>\n",
       "      <th>(4.99, 5]</th>\n",
       "      <th>Missing</th>\n",
       "    </tr>\n",
       "    <tr>\n",
       "      <th>churn</th>\n",
       "      <th></th>\n",
       "      <th></th>\n",
       "      <th></th>\n",
       "      <th></th>\n",
       "    </tr>\n",
       "  </thead>\n",
       "  <tbody>\n",
       "    <tr>\n",
       "      <th>0</th>\n",
       "      <td>0.420011</td>\n",
       "      <td>0.528168</td>\n",
       "      <td>0.309915</td>\n",
       "      <td>0.202093</td>\n",
       "    </tr>\n",
       "    <tr>\n",
       "      <th>1</th>\n",
       "      <td>0.579989</td>\n",
       "      <td>0.471832</td>\n",
       "      <td>0.690085</td>\n",
       "      <td>0.797907</td>\n",
       "    </tr>\n",
       "  </tbody>\n",
       "</table>\n",
       "</div>"
      ],
      "text/plain": [
       "bin_avg_rating_of_driver  [0, 3.99]  (3.99, 4.99]  (4.99, 5]   Missing\n",
       "churn                                                                 \n",
       "0                          0.420011      0.528168   0.309915  0.202093\n",
       "1                          0.579989      0.471832   0.690085  0.797907"
      ]
     },
     "execution_count": 244,
     "metadata": {},
     "output_type": "execute_result"
    }
   ],
   "source": [
    "pd.crosstab(data.churn, data.bin_avg_rating_of_driver).apply(lambda r: r/r.sum(), axis=0)"
   ]
  },
  {
   "cell_type": "markdown",
   "metadata": {},
   "source": [
    "same strange distributions - poor average experiences less likely to churn than good average experiences. missing intuitively the highest "
   ]
  },
  {
   "cell_type": "code",
   "execution_count": 245,
   "metadata": {
    "collapsed": false
   },
   "outputs": [
    {
     "name": "stdout",
     "output_type": "stream",
     "text": [
      "<class 'pandas.core.frame.DataFrame'>\n",
      "Int64Index: 49604 entries, 0 to 49999\n",
      "Data columns (total 13 columns):\n",
      "avg_dist                    49604 non-null float64\n",
      "avg_surge                   49604 non-null float64\n",
      "city                        49604 non-null category\n",
      "last_trip_date              49604 non-null datetime64[ns]\n",
      "phone                       49604 non-null category\n",
      "signup_date                 49604 non-null datetime64[ns]\n",
      "surge_pct                   49604 non-null float64\n",
      "trips_in_first_30_days      49604 non-null int64\n",
      "luxury_car_user             49604 non-null bool\n",
      "weekday_pct                 49604 non-null float64\n",
      "churn                       49604 non-null int64\n",
      "bin_avg_rating_by_driver    49604 non-null category\n",
      "bin_avg_rating_of_driver    49604 non-null category\n",
      "dtypes: bool(1), category(4), datetime64[ns](2), float64(4), int64(2)\n",
      "memory usage: 3.6 MB\n"
     ]
    }
   ],
   "source": [
    "data.info()"
   ]
  },
  {
   "cell_type": "markdown",
   "metadata": {},
   "source": [
    "I now need to convert the categorical variables into dummies..."
   ]
  },
  {
   "cell_type": "code",
   "execution_count": 246,
   "metadata": {
    "collapsed": false
   },
   "outputs": [],
   "source": [
    "data_phone = pd.get_dummies(data.phone)\n",
    "\n",
    "data.bin_avg_rating_by_driver = map(lambda x: 'bin_by_driver_' + str(x), data.bin_avg_rating_by_driver)\n",
    "data_bin_avg_rating_by_driver = pd.get_dummies(data.bin_avg_rating_by_driver)\n",
    "\n",
    "data.bin_avg_rating_of_driver = map(lambda x: 'bin_of_driver_' + str(x), data.bin_avg_rating_of_driver)\n",
    "data_bin_avg_rating_of_driver = pd.get_dummies(data.bin_avg_rating_of_driver)\n",
    "\n",
    "\n",
    "data_city = pd.get_dummies(data.city)"
   ]
  },
  {
   "cell_type": "code",
   "execution_count": 247,
   "metadata": {
    "collapsed": false
   },
   "outputs": [],
   "source": [
    "data = pd.concat([data, data_phone, data_bin_avg_rating_by_driver,data_bin_avg_rating_of_driver,data_city ], axis = 1)\n",
    "data = data.drop(['phone','bin_avg_rating_by_driver','bin_avg_rating_of_driver','city'], 1)"
   ]
  },
  {
   "cell_type": "code",
   "execution_count": 248,
   "metadata": {
    "collapsed": false
   },
   "outputs": [
    {
     "data": {
      "text/html": [
       "<div>\n",
       "<table border=\"1\" class=\"dataframe\">\n",
       "  <thead>\n",
       "    <tr style=\"text-align: right;\">\n",
       "      <th></th>\n",
       "      <th>avg_dist</th>\n",
       "      <th>avg_surge</th>\n",
       "      <th>last_trip_date</th>\n",
       "      <th>signup_date</th>\n",
       "      <th>surge_pct</th>\n",
       "      <th>trips_in_first_30_days</th>\n",
       "      <th>luxury_car_user</th>\n",
       "      <th>weekday_pct</th>\n",
       "      <th>churn</th>\n",
       "      <th>Android</th>\n",
       "      <th>empty_phone</th>\n",
       "      <th>iPhone</th>\n",
       "      <th>bin_by_driver_(3.99, 4.99]</th>\n",
       "      <th>bin_by_driver_(4.99, 5]</th>\n",
       "      <th>bin_by_driver_Missing</th>\n",
       "      <th>bin_by_driver_[0, 3.99]</th>\n",
       "      <th>bin_of_driver_(3.99, 4.99]</th>\n",
       "      <th>bin_of_driver_(4.99, 5]</th>\n",
       "      <th>bin_of_driver_Missing</th>\n",
       "      <th>bin_of_driver_[0, 3.99]</th>\n",
       "      <th>Astapor</th>\n",
       "      <th>King's Landing</th>\n",
       "      <th>Winterfell</th>\n",
       "    </tr>\n",
       "  </thead>\n",
       "  <tbody>\n",
       "    <tr>\n",
       "      <th>0</th>\n",
       "      <td>3.67</td>\n",
       "      <td>1.10</td>\n",
       "      <td>2014-06-17</td>\n",
       "      <td>2014-01-25</td>\n",
       "      <td>15.4</td>\n",
       "      <td>4</td>\n",
       "      <td>True</td>\n",
       "      <td>46.2</td>\n",
       "      <td>0</td>\n",
       "      <td>0.0</td>\n",
       "      <td>0.0</td>\n",
       "      <td>1.0</td>\n",
       "      <td>0.0</td>\n",
       "      <td>1.0</td>\n",
       "      <td>0.0</td>\n",
       "      <td>0.0</td>\n",
       "      <td>1.0</td>\n",
       "      <td>0.0</td>\n",
       "      <td>0.0</td>\n",
       "      <td>0.0</td>\n",
       "      <td>0.0</td>\n",
       "      <td>1.0</td>\n",
       "      <td>0.0</td>\n",
       "    </tr>\n",
       "    <tr>\n",
       "      <th>1</th>\n",
       "      <td>8.26</td>\n",
       "      <td>1.00</td>\n",
       "      <td>2014-05-05</td>\n",
       "      <td>2014-01-29</td>\n",
       "      <td>0.0</td>\n",
       "      <td>0</td>\n",
       "      <td>False</td>\n",
       "      <td>50.0</td>\n",
       "      <td>1</td>\n",
       "      <td>1.0</td>\n",
       "      <td>0.0</td>\n",
       "      <td>0.0</td>\n",
       "      <td>0.0</td>\n",
       "      <td>1.0</td>\n",
       "      <td>0.0</td>\n",
       "      <td>0.0</td>\n",
       "      <td>0.0</td>\n",
       "      <td>1.0</td>\n",
       "      <td>0.0</td>\n",
       "      <td>0.0</td>\n",
       "      <td>1.0</td>\n",
       "      <td>0.0</td>\n",
       "      <td>0.0</td>\n",
       "    </tr>\n",
       "    <tr>\n",
       "      <th>2</th>\n",
       "      <td>0.77</td>\n",
       "      <td>1.00</td>\n",
       "      <td>2014-01-07</td>\n",
       "      <td>2014-01-06</td>\n",
       "      <td>0.0</td>\n",
       "      <td>3</td>\n",
       "      <td>False</td>\n",
       "      <td>100.0</td>\n",
       "      <td>1</td>\n",
       "      <td>0.0</td>\n",
       "      <td>0.0</td>\n",
       "      <td>1.0</td>\n",
       "      <td>0.0</td>\n",
       "      <td>1.0</td>\n",
       "      <td>0.0</td>\n",
       "      <td>0.0</td>\n",
       "      <td>1.0</td>\n",
       "      <td>0.0</td>\n",
       "      <td>0.0</td>\n",
       "      <td>0.0</td>\n",
       "      <td>1.0</td>\n",
       "      <td>0.0</td>\n",
       "      <td>0.0</td>\n",
       "    </tr>\n",
       "    <tr>\n",
       "      <th>3</th>\n",
       "      <td>2.36</td>\n",
       "      <td>1.14</td>\n",
       "      <td>2014-06-29</td>\n",
       "      <td>2014-01-10</td>\n",
       "      <td>20.0</td>\n",
       "      <td>9</td>\n",
       "      <td>True</td>\n",
       "      <td>80.0</td>\n",
       "      <td>0</td>\n",
       "      <td>0.0</td>\n",
       "      <td>0.0</td>\n",
       "      <td>1.0</td>\n",
       "      <td>1.0</td>\n",
       "      <td>0.0</td>\n",
       "      <td>0.0</td>\n",
       "      <td>0.0</td>\n",
       "      <td>1.0</td>\n",
       "      <td>0.0</td>\n",
       "      <td>0.0</td>\n",
       "      <td>0.0</td>\n",
       "      <td>0.0</td>\n",
       "      <td>1.0</td>\n",
       "      <td>0.0</td>\n",
       "    </tr>\n",
       "    <tr>\n",
       "      <th>4</th>\n",
       "      <td>3.13</td>\n",
       "      <td>1.19</td>\n",
       "      <td>2014-03-15</td>\n",
       "      <td>2014-01-27</td>\n",
       "      <td>11.8</td>\n",
       "      <td>14</td>\n",
       "      <td>False</td>\n",
       "      <td>82.4</td>\n",
       "      <td>1</td>\n",
       "      <td>1.0</td>\n",
       "      <td>0.0</td>\n",
       "      <td>0.0</td>\n",
       "      <td>1.0</td>\n",
       "      <td>0.0</td>\n",
       "      <td>0.0</td>\n",
       "      <td>0.0</td>\n",
       "      <td>1.0</td>\n",
       "      <td>0.0</td>\n",
       "      <td>0.0</td>\n",
       "      <td>0.0</td>\n",
       "      <td>0.0</td>\n",
       "      <td>0.0</td>\n",
       "      <td>1.0</td>\n",
       "    </tr>\n",
       "  </tbody>\n",
       "</table>\n",
       "</div>"
      ],
      "text/plain": [
       "   avg_dist  avg_surge last_trip_date signup_date  surge_pct  \\\n",
       "0      3.67       1.10     2014-06-17  2014-01-25       15.4   \n",
       "1      8.26       1.00     2014-05-05  2014-01-29        0.0   \n",
       "2      0.77       1.00     2014-01-07  2014-01-06        0.0   \n",
       "3      2.36       1.14     2014-06-29  2014-01-10       20.0   \n",
       "4      3.13       1.19     2014-03-15  2014-01-27       11.8   \n",
       "\n",
       "   trips_in_first_30_days luxury_car_user  weekday_pct  churn  Android  \\\n",
       "0                       4            True         46.2      0      0.0   \n",
       "1                       0           False         50.0      1      1.0   \n",
       "2                       3           False        100.0      1      0.0   \n",
       "3                       9            True         80.0      0      0.0   \n",
       "4                      14           False         82.4      1      1.0   \n",
       "\n",
       "   empty_phone  iPhone  bin_by_driver_(3.99, 4.99]  bin_by_driver_(4.99, 5]  \\\n",
       "0          0.0     1.0                         0.0                      1.0   \n",
       "1          0.0     0.0                         0.0                      1.0   \n",
       "2          0.0     1.0                         0.0                      1.0   \n",
       "3          0.0     1.0                         1.0                      0.0   \n",
       "4          0.0     0.0                         1.0                      0.0   \n",
       "\n",
       "   bin_by_driver_Missing  bin_by_driver_[0, 3.99]  bin_of_driver_(3.99, 4.99]  \\\n",
       "0                    0.0                      0.0                         1.0   \n",
       "1                    0.0                      0.0                         0.0   \n",
       "2                    0.0                      0.0                         1.0   \n",
       "3                    0.0                      0.0                         1.0   \n",
       "4                    0.0                      0.0                         1.0   \n",
       "\n",
       "   bin_of_driver_(4.99, 5]  bin_of_driver_Missing  bin_of_driver_[0, 3.99]  \\\n",
       "0                      0.0                    0.0                      0.0   \n",
       "1                      1.0                    0.0                      0.0   \n",
       "2                      0.0                    0.0                      0.0   \n",
       "3                      0.0                    0.0                      0.0   \n",
       "4                      0.0                    0.0                      0.0   \n",
       "\n",
       "   Astapor  King's Landing  Winterfell  \n",
       "0      0.0             1.0         0.0  \n",
       "1      1.0             0.0         0.0  \n",
       "2      1.0             0.0         0.0  \n",
       "3      0.0             1.0         0.0  \n",
       "4      0.0             0.0         1.0  "
      ]
     },
     "execution_count": 248,
     "metadata": {},
     "output_type": "execute_result"
    }
   ],
   "source": [
    "data.head()"
   ]
  },
  {
   "cell_type": "code",
   "execution_count": 249,
   "metadata": {
    "collapsed": false
   },
   "outputs": [
    {
     "name": "stdout",
     "output_type": "stream",
     "text": [
      "<class 'pandas.core.frame.DataFrame'>\n",
      "Int64Index: 49604 entries, 0 to 49999\n",
      "Data columns (total 23 columns):\n",
      "avg_dist                      49604 non-null float64\n",
      "avg_surge                     49604 non-null float64\n",
      "last_trip_date                49604 non-null datetime64[ns]\n",
      "signup_date                   49604 non-null datetime64[ns]\n",
      "surge_pct                     49604 non-null float64\n",
      "trips_in_first_30_days        49604 non-null int64\n",
      "luxury_car_user               49604 non-null bool\n",
      "weekday_pct                   49604 non-null float64\n",
      "churn                         49604 non-null int64\n",
      "Android                       49604 non-null float64\n",
      "empty_phone                   49604 non-null float64\n",
      "iPhone                        49604 non-null float64\n",
      "bin_by_driver_(3.99, 4.99]    49604 non-null float64\n",
      "bin_by_driver_(4.99, 5]       49604 non-null float64\n",
      "bin_by_driver_Missing         49604 non-null float64\n",
      "bin_by_driver_[0, 3.99]       49604 non-null float64\n",
      "bin_of_driver_(3.99, 4.99]    49604 non-null float64\n",
      "bin_of_driver_(4.99, 5]       49604 non-null float64\n",
      "bin_of_driver_Missing         49604 non-null float64\n",
      "bin_of_driver_[0, 3.99]       49604 non-null float64\n",
      "Astapor                       49604 non-null float64\n",
      "King's Landing                49604 non-null float64\n",
      "Winterfell                    49604 non-null float64\n",
      "dtypes: bool(1), datetime64[ns](2), float64(18), int64(2)\n",
      "memory usage: 8.8 MB\n"
     ]
    }
   ],
   "source": [
    "data.info()"
   ]
  },
  {
   "cell_type": "code",
   "execution_count": 250,
   "metadata": {
    "collapsed": false
   },
   "outputs": [
    {
     "name": "stdout",
     "output_type": "stream",
     "text": [
      "<class 'pandas.core.frame.DataFrame'>\n",
      "Int64Index: 49604 entries, 0 to 49999\n",
      "Data columns (total 21 columns):\n",
      "avg_dist                      49604 non-null float64\n",
      "avg_surge                     49604 non-null float64\n",
      "surge_pct                     49604 non-null float64\n",
      "trips_in_first_30_days        49604 non-null int64\n",
      "luxury_car_user               49604 non-null bool\n",
      "weekday_pct                   49604 non-null float64\n",
      "churn                         49604 non-null int64\n",
      "Android                       49604 non-null float64\n",
      "empty_phone                   49604 non-null float64\n",
      "iPhone                        49604 non-null float64\n",
      "bin_by_driver_(3.99, 4.99]    49604 non-null float64\n",
      "bin_by_driver_(4.99, 5]       49604 non-null float64\n",
      "bin_by_driver_Missing         49604 non-null float64\n",
      "bin_by_driver_[0, 3.99]       49604 non-null float64\n",
      "bin_of_driver_(3.99, 4.99]    49604 non-null float64\n",
      "bin_of_driver_(4.99, 5]       49604 non-null float64\n",
      "bin_of_driver_Missing         49604 non-null float64\n",
      "bin_of_driver_[0, 3.99]       49604 non-null float64\n",
      "Astapor                       49604 non-null float64\n",
      "King's Landing                49604 non-null float64\n",
      "Winterfell                    49604 non-null float64\n",
      "dtypes: bool(1), float64(18), int64(2)\n",
      "memory usage: 8.0 MB\n"
     ]
    }
   ],
   "source": [
    "#still need to get ride of dates...\n",
    "data = data.drop(['last_trip_date','signup_date'],axis=1)\n",
    "data.info()"
   ]
  },
  {
   "cell_type": "code",
   "execution_count": 251,
   "metadata": {
    "collapsed": false
   },
   "outputs": [
    {
     "data": {
      "text/html": [
       "<div>\n",
       "<table border=\"1\" class=\"dataframe\">\n",
       "  <thead>\n",
       "    <tr style=\"text-align: right;\">\n",
       "      <th></th>\n",
       "      <th>count</th>\n",
       "      <th>mean</th>\n",
       "      <th>std</th>\n",
       "      <th>min</th>\n",
       "      <th>25%</th>\n",
       "      <th>50%</th>\n",
       "      <th>75%</th>\n",
       "      <th>max</th>\n",
       "    </tr>\n",
       "  </thead>\n",
       "  <tbody>\n",
       "    <tr>\n",
       "      <th>avg_dist</th>\n",
       "      <td>49604.0</td>\n",
       "      <td>5.785418</td>\n",
       "      <td>5.669709</td>\n",
       "      <td>0.0</td>\n",
       "      <td>2.42</td>\n",
       "      <td>3.88</td>\n",
       "      <td>6.93</td>\n",
       "      <td>160.96</td>\n",
       "    </tr>\n",
       "    <tr>\n",
       "      <th>avg_surge</th>\n",
       "      <td>49604.0</td>\n",
       "      <td>1.074991</td>\n",
       "      <td>0.222666</td>\n",
       "      <td>1.0</td>\n",
       "      <td>1.00</td>\n",
       "      <td>1.00</td>\n",
       "      <td>1.05</td>\n",
       "      <td>8.00</td>\n",
       "    </tr>\n",
       "    <tr>\n",
       "      <th>surge_pct</th>\n",
       "      <td>49604.0</td>\n",
       "      <td>8.875314</td>\n",
       "      <td>19.989018</td>\n",
       "      <td>0.0</td>\n",
       "      <td>0.00</td>\n",
       "      <td>0.00</td>\n",
       "      <td>8.70</td>\n",
       "      <td>100.00</td>\n",
       "    </tr>\n",
       "    <tr>\n",
       "      <th>trips_in_first_30_days</th>\n",
       "      <td>49604.0</td>\n",
       "      <td>2.277256</td>\n",
       "      <td>3.793300</td>\n",
       "      <td>0.0</td>\n",
       "      <td>0.00</td>\n",
       "      <td>1.00</td>\n",
       "      <td>3.00</td>\n",
       "      <td>125.00</td>\n",
       "    </tr>\n",
       "    <tr>\n",
       "      <th>weekday_pct</th>\n",
       "      <td>49604.0</td>\n",
       "      <td>60.883832</td>\n",
       "      <td>37.086239</td>\n",
       "      <td>0.0</td>\n",
       "      <td>33.30</td>\n",
       "      <td>66.70</td>\n",
       "      <td>100.00</td>\n",
       "      <td>100.00</td>\n",
       "    </tr>\n",
       "    <tr>\n",
       "      <th>churn</th>\n",
       "      <td>49604.0</td>\n",
       "      <td>0.623599</td>\n",
       "      <td>0.484487</td>\n",
       "      <td>0.0</td>\n",
       "      <td>0.00</td>\n",
       "      <td>1.00</td>\n",
       "      <td>1.00</td>\n",
       "      <td>1.00</td>\n",
       "    </tr>\n",
       "    <tr>\n",
       "      <th>Android</th>\n",
       "      <td>49604.0</td>\n",
       "      <td>0.302838</td>\n",
       "      <td>0.459491</td>\n",
       "      <td>0.0</td>\n",
       "      <td>0.00</td>\n",
       "      <td>0.00</td>\n",
       "      <td>1.00</td>\n",
       "      <td>1.00</td>\n",
       "    </tr>\n",
       "    <tr>\n",
       "      <th>empty_phone</th>\n",
       "      <td>49604.0</td>\n",
       "      <td>0.000000</td>\n",
       "      <td>0.000000</td>\n",
       "      <td>0.0</td>\n",
       "      <td>0.00</td>\n",
       "      <td>0.00</td>\n",
       "      <td>0.00</td>\n",
       "      <td>0.00</td>\n",
       "    </tr>\n",
       "    <tr>\n",
       "      <th>iPhone</th>\n",
       "      <td>49604.0</td>\n",
       "      <td>0.697162</td>\n",
       "      <td>0.459491</td>\n",
       "      <td>0.0</td>\n",
       "      <td>0.00</td>\n",
       "      <td>1.00</td>\n",
       "      <td>1.00</td>\n",
       "      <td>1.00</td>\n",
       "    </tr>\n",
       "    <tr>\n",
       "      <th>bin_by_driver_(3.99, 4.99]</th>\n",
       "      <td>49604.0</td>\n",
       "      <td>0.394585</td>\n",
       "      <td>0.488766</td>\n",
       "      <td>0.0</td>\n",
       "      <td>0.00</td>\n",
       "      <td>0.00</td>\n",
       "      <td>1.00</td>\n",
       "      <td>1.00</td>\n",
       "    </tr>\n",
       "    <tr>\n",
       "      <th>bin_by_driver_(4.99, 5]</th>\n",
       "      <td>49604.0</td>\n",
       "      <td>0.569934</td>\n",
       "      <td>0.495090</td>\n",
       "      <td>0.0</td>\n",
       "      <td>0.00</td>\n",
       "      <td>1.00</td>\n",
       "      <td>1.00</td>\n",
       "      <td>1.00</td>\n",
       "    </tr>\n",
       "    <tr>\n",
       "      <th>bin_by_driver_Missing</th>\n",
       "      <td>49604.0</td>\n",
       "      <td>0.003992</td>\n",
       "      <td>0.063054</td>\n",
       "      <td>0.0</td>\n",
       "      <td>0.00</td>\n",
       "      <td>0.00</td>\n",
       "      <td>0.00</td>\n",
       "      <td>1.00</td>\n",
       "    </tr>\n",
       "    <tr>\n",
       "      <th>bin_by_driver_[0, 3.99]</th>\n",
       "      <td>49604.0</td>\n",
       "      <td>0.031489</td>\n",
       "      <td>0.174638</td>\n",
       "      <td>0.0</td>\n",
       "      <td>0.00</td>\n",
       "      <td>0.00</td>\n",
       "      <td>0.00</td>\n",
       "      <td>1.00</td>\n",
       "    </tr>\n",
       "    <tr>\n",
       "      <th>bin_of_driver_(3.99, 4.99]</th>\n",
       "      <td>49604.0</td>\n",
       "      <td>0.346041</td>\n",
       "      <td>0.475711</td>\n",
       "      <td>0.0</td>\n",
       "      <td>0.00</td>\n",
       "      <td>0.00</td>\n",
       "      <td>1.00</td>\n",
       "      <td>1.00</td>\n",
       "    </tr>\n",
       "    <tr>\n",
       "      <th>bin_of_driver_(4.99, 5]</th>\n",
       "      <td>49604.0</td>\n",
       "      <td>0.415793</td>\n",
       "      <td>0.492863</td>\n",
       "      <td>0.0</td>\n",
       "      <td>0.00</td>\n",
       "      <td>0.00</td>\n",
       "      <td>1.00</td>\n",
       "      <td>1.00</td>\n",
       "    </tr>\n",
       "    <tr>\n",
       "      <th>bin_of_driver_Missing</th>\n",
       "      <td>49604.0</td>\n",
       "      <td>0.161801</td>\n",
       "      <td>0.368272</td>\n",
       "      <td>0.0</td>\n",
       "      <td>0.00</td>\n",
       "      <td>0.00</td>\n",
       "      <td>0.00</td>\n",
       "      <td>1.00</td>\n",
       "    </tr>\n",
       "    <tr>\n",
       "      <th>bin_of_driver_[0, 3.99]</th>\n",
       "      <td>49604.0</td>\n",
       "      <td>0.076365</td>\n",
       "      <td>0.265584</td>\n",
       "      <td>0.0</td>\n",
       "      <td>0.00</td>\n",
       "      <td>0.00</td>\n",
       "      <td>0.00</td>\n",
       "      <td>1.00</td>\n",
       "    </tr>\n",
       "    <tr>\n",
       "      <th>Astapor</th>\n",
       "      <td>49604.0</td>\n",
       "      <td>0.330881</td>\n",
       "      <td>0.470535</td>\n",
       "      <td>0.0</td>\n",
       "      <td>0.00</td>\n",
       "      <td>0.00</td>\n",
       "      <td>1.00</td>\n",
       "      <td>1.00</td>\n",
       "    </tr>\n",
       "    <tr>\n",
       "      <th>King's Landing</th>\n",
       "      <td>49604.0</td>\n",
       "      <td>0.202927</td>\n",
       "      <td>0.402183</td>\n",
       "      <td>0.0</td>\n",
       "      <td>0.00</td>\n",
       "      <td>0.00</td>\n",
       "      <td>0.00</td>\n",
       "      <td>1.00</td>\n",
       "    </tr>\n",
       "    <tr>\n",
       "      <th>Winterfell</th>\n",
       "      <td>49604.0</td>\n",
       "      <td>0.466192</td>\n",
       "      <td>0.498861</td>\n",
       "      <td>0.0</td>\n",
       "      <td>0.00</td>\n",
       "      <td>0.00</td>\n",
       "      <td>1.00</td>\n",
       "      <td>1.00</td>\n",
       "    </tr>\n",
       "  </tbody>\n",
       "</table>\n",
       "</div>"
      ],
      "text/plain": [
       "                              count       mean        std  min    25%    50%  \\\n",
       "avg_dist                    49604.0   5.785418   5.669709  0.0   2.42   3.88   \n",
       "avg_surge                   49604.0   1.074991   0.222666  1.0   1.00   1.00   \n",
       "surge_pct                   49604.0   8.875314  19.989018  0.0   0.00   0.00   \n",
       "trips_in_first_30_days      49604.0   2.277256   3.793300  0.0   0.00   1.00   \n",
       "weekday_pct                 49604.0  60.883832  37.086239  0.0  33.30  66.70   \n",
       "churn                       49604.0   0.623599   0.484487  0.0   0.00   1.00   \n",
       "Android                     49604.0   0.302838   0.459491  0.0   0.00   0.00   \n",
       "empty_phone                 49604.0   0.000000   0.000000  0.0   0.00   0.00   \n",
       "iPhone                      49604.0   0.697162   0.459491  0.0   0.00   1.00   \n",
       "bin_by_driver_(3.99, 4.99]  49604.0   0.394585   0.488766  0.0   0.00   0.00   \n",
       "bin_by_driver_(4.99, 5]     49604.0   0.569934   0.495090  0.0   0.00   1.00   \n",
       "bin_by_driver_Missing       49604.0   0.003992   0.063054  0.0   0.00   0.00   \n",
       "bin_by_driver_[0, 3.99]     49604.0   0.031489   0.174638  0.0   0.00   0.00   \n",
       "bin_of_driver_(3.99, 4.99]  49604.0   0.346041   0.475711  0.0   0.00   0.00   \n",
       "bin_of_driver_(4.99, 5]     49604.0   0.415793   0.492863  0.0   0.00   0.00   \n",
       "bin_of_driver_Missing       49604.0   0.161801   0.368272  0.0   0.00   0.00   \n",
       "bin_of_driver_[0, 3.99]     49604.0   0.076365   0.265584  0.0   0.00   0.00   \n",
       "Astapor                     49604.0   0.330881   0.470535  0.0   0.00   0.00   \n",
       "King's Landing              49604.0   0.202927   0.402183  0.0   0.00   0.00   \n",
       "Winterfell                  49604.0   0.466192   0.498861  0.0   0.00   0.00   \n",
       "\n",
       "                               75%     max  \n",
       "avg_dist                      6.93  160.96  \n",
       "avg_surge                     1.05    8.00  \n",
       "surge_pct                     8.70  100.00  \n",
       "trips_in_first_30_days        3.00  125.00  \n",
       "weekday_pct                 100.00  100.00  \n",
       "churn                         1.00    1.00  \n",
       "Android                       1.00    1.00  \n",
       "empty_phone                   0.00    0.00  \n",
       "iPhone                        1.00    1.00  \n",
       "bin_by_driver_(3.99, 4.99]    1.00    1.00  \n",
       "bin_by_driver_(4.99, 5]       1.00    1.00  \n",
       "bin_by_driver_Missing         0.00    1.00  \n",
       "bin_by_driver_[0, 3.99]       0.00    1.00  \n",
       "bin_of_driver_(3.99, 4.99]    1.00    1.00  \n",
       "bin_of_driver_(4.99, 5]       1.00    1.00  \n",
       "bin_of_driver_Missing         0.00    1.00  \n",
       "bin_of_driver_[0, 3.99]       0.00    1.00  \n",
       "Astapor                       1.00    1.00  \n",
       "King's Landing                0.00    1.00  \n",
       "Winterfell                    1.00    1.00  "
      ]
     },
     "execution_count": 251,
     "metadata": {},
     "output_type": "execute_result"
    }
   ],
   "source": [
    "#verifying that my model input data is all numeric and nothing crazy standing out...\n",
    "data.describe().T"
   ]
  },
  {
   "cell_type": "markdown",
   "metadata": {},
   "source": [
    "Time to build some crappy models and visualizations for evaluation"
   ]
  },
  {
   "cell_type": "code",
   "execution_count": 252,
   "metadata": {
    "collapsed": false
   },
   "outputs": [],
   "source": [
    "from sklearn.linear_model import LogisticRegression\n",
    "from sklearn.pipeline import Pipeline\n",
    "from sklearn.grid_search import GridSearchCV\n",
    "from sklearn.cross_validation import train_test_split"
   ]
  },
  {
   "cell_type": "code",
   "execution_count": 253,
   "metadata": {
    "collapsed": true
   },
   "outputs": [],
   "source": [
    "def roc_curve(probabilities, labels):\n",
    "    '''\n",
    "    INPUT: numpy array, numpy array\n",
    "    OUTPUT: list, list, list\n",
    "\n",
    "    Take a numpy array of the predicted probabilities and a numpy array of the\n",
    "    true labels.\n",
    "    Return the True Positive Rates, False Positive Rates and Thresholds for the\n",
    "    ROC curve.\n",
    "    '''\n",
    "\n",
    "    thresholds = np.sort(probabilities)\n",
    "\n",
    "    tprs = []\n",
    "    fprs = []\n",
    "    \n",
    "    #true conditions\n",
    "    num_positive_cases = sum(labels)\n",
    "    num_negative_cases = len(labels) - num_positive_cases\n",
    "\n",
    "    \n",
    "    \n",
    "    #go through each threshold level (ie, each predicted probability) and capture the true pos rate and false pos rate\n",
    "    for threshold in thresholds:\n",
    "        # With this threshold, give the prediction of each instance\n",
    "        predicted_positive = probabilities >= threshold\n",
    "        # Calculate the number of correctly predicted positive cases\n",
    "        true_positives = np.sum(predicted_positive * labels)\n",
    "        # Calculate the number of incorrectly predicted positive cases\n",
    "        false_positives = np.sum(predicted_positive) - true_positives\n",
    "        # Calculate the True Positive Rate\n",
    "        tpr = true_positives / float(num_positive_cases)\n",
    "        # Calculate the False Positive Rate\n",
    "        fpr = false_positives / float(num_negative_cases)\n",
    "\n",
    "        fprs.append(fpr)\n",
    "        tprs.append(tpr)\n",
    "    \n",
    "    return tprs, fprs, thresholds.tolist()\n",
    "\n",
    "\n",
    "#takes in the predicted probs and labels, calls the previous function and generates the ROC\n",
    "\n",
    "def plot_roc(probs, y_true, title, xlabel, ylabel):\n",
    "    # ROC\n",
    "    tpr, fpr, thresholds = roc_curve(v_probs, y_test)\n",
    "\n",
    "    plt.hold(True)\n",
    "    plt.plot(fpr, tpr)\n",
    "\n",
    "    # 45 degree line\n",
    "    xx = np.linspace(0, 1.0, 20)\n",
    "    plt.plot(xx, xx, color='red')\n",
    "\n",
    "    plt.xlabel(xlabel)\n",
    "    plt.ylabel(ylabel)\n",
    "    plt.title(title)\n",
    "\n",
    "    plt.show()"
   ]
  },
  {
   "cell_type": "markdown",
   "metadata": {},
   "source": []
  },
  {
   "cell_type": "code",
   "execution_count": 254,
   "metadata": {
    "collapsed": true
   },
   "outputs": [],
   "source": [
    "#separate the predictors from the dependent var\n",
    "X = data.copy()\n",
    "y = X.pop('churn')"
   ]
  },
  {
   "cell_type": "code",
   "execution_count": 255,
   "metadata": {
    "collapsed": true
   },
   "outputs": [],
   "source": [
    "#separate training data\n",
    "X_train, X_test, y_train, y_test = train_test_split(X, y, test_size=0.20)"
   ]
  },
  {
   "cell_type": "code",
   "execution_count": 257,
   "metadata": {
    "collapsed": false
   },
   "outputs": [
    {
     "name": "stdout",
     "output_type": "stream",
     "text": [
      "X_train count: 39683\n",
      "X_test count: 9921\n",
      "y_train count: 39683\n",
      "y_test count: 9921\n"
     ]
    }
   ],
   "source": [
    "print 'X_train count: {}'.format(len(X_train))\n",
    "print 'X_test count: {}'.format(len(X_test))\n",
    "print 'y_train count: {}'.format(len(y_train))\n",
    "print 'y_test count: {}'.format(len(y_test))"
   ]
  },
  {
   "cell_type": "code",
   "execution_count": 258,
   "metadata": {
    "collapsed": false
   },
   "outputs": [
    {
     "name": "stderr",
     "output_type": "stream",
     "text": [
      "/Users/mdcorey/anaconda2/lib/python2.7/site-packages/sklearn/utils/class_weight.py:65: DeprecationWarning: The class_weight='auto' heuristic is deprecated in 0.17 in favor of a new heuristic class_weight='balanced'. 'auto' will be removed in 0.19\n",
      "  \" 0.19\", DeprecationWarning)\n"
     ]
    },
    {
     "data": {
      "text/plain": [
       "LogisticRegression(C=1.0, class_weight='auto', dual=False, fit_intercept=True,\n",
       "          intercept_scaling=1, max_iter=100, multi_class='ovr', n_jobs=1,\n",
       "          penalty='l2', random_state=None, solver='liblinear', tol=0.0001,\n",
       "          verbose=0, warm_start=False)"
      ]
     },
     "execution_count": 258,
     "metadata": {},
     "output_type": "execute_result"
    }
   ],
   "source": [
    "#run log_reg\n",
    "lr = LogisticRegression(class_weight='auto')\n",
    "lr.fit(X_train, y_train)"
   ]
  },
  {
   "cell_type": "code",
   "execution_count": 259,
   "metadata": {
    "collapsed": false
   },
   "outputs": [
    {
     "data": {
      "text/plain": [
       "0.74468299566575946"
      ]
     },
     "execution_count": 259,
     "metadata": {},
     "output_type": "execute_result"
    }
   ],
   "source": [
    "lr.score(X_test,y_test)"
   ]
  },
  {
   "cell_type": "markdown",
   "metadata": {},
   "source": [
    "The score function returns acuracy of model on test set.  This number must be evaluated in the context of a baseline model.  For example, we know that 62% of our data has churned.  Assuming that the data set is a random sample of the true population, our dumb log-reg model improves on this baseline accuracy by ~19% ((74-62)/62). \n",
    "\n",
    "Accuracy is likely the wrong evaluation metric though.  In the case of churn, false positives (incorrectly labeling low churn risk users as high risk) are less harmful than false negatives (incorrectly labeling high churn risk users as low risk) since the costs these errors are drastically different.  \n",
    "\n",
    "Model evaluation technique will depend on the context of the business problem we are addressing.  For example, if we are trying to classify users based on probability of churn in order to market to these particular users and lower the propensity of churn, this implies a couple things:\n",
    "    1) there is likely a marketing budget constraint - eg we can only spend $X total dollars to address this issue\n",
    "    2) we should expect different cost/benefit values for each classification category (TP, FP, TN, FN)  \n",
    " \n",
    "In this case, we should evaluate models using a profit curve and select the model that optimizes overall profit at the constraint point.  This is dependent on creating a confusion matrix with cell costs overlaid. \n",
    "\n",
    "If we are only interested in attaining the 'best' predictor, and can assume no value in applying cost/benefits to each classification category, we should use a ROC to evaluate the models and select the model that optimizes 'AUC' (area under the curve) \n",
    "\n",
    "There is an inherent tradeoff between true positive rate (aka sensitivity/recall) and false positive rate.  \n",
    "    TP/(TP + FN) --> true positive rate is true positives divided by total condition positive\n",
    "    FP/(FP + TN) --> false positive rate is false positives divided by total condition negative\n",
    "\n",
    "...\n",
    "\n"
   ]
  },
  {
   "cell_type": "code",
   "execution_count": 263,
   "metadata": {
    "collapsed": true
   },
   "outputs": [],
   "source": [
    "#to generate the ROC curve we need to get the predicted probabilities of the test set...\n",
    "v_probs = lr.predict_proba(X_test)[:, 1]"
   ]
  },
  {
   "cell_type": "code",
   "execution_count": 267,
   "metadata": {
    "collapsed": false
   },
   "outputs": [
    {
     "data": {
      "text/plain": [
       "9921"
      ]
     },
     "execution_count": 267,
     "metadata": {},
     "output_type": "execute_result"
    }
   ],
   "source": [
    "#verifying that the number matches that of the test count\n",
    "len(v_probs)"
   ]
  },
  {
   "cell_type": "code",
   "execution_count": 268,
   "metadata": {
    "collapsed": false
   },
   "outputs": [
    {
     "data": {
      "image/png": "[encoded data removed]",
      "text/plain": [
       "<matplotlib.figure.Figure at 0x1232b2a10>"
      ]
     },
     "metadata": {},
     "output_type": "display_data"
    }
   ],
   "source": [
    "plot_roc(v_probs, y_test, \"ROC plot of churn data\", \n",
    "         \"False Positive Rate (1 - Specificity)\", \"True Positive Rate (Sensitivity, Recall)\")\n"
   ]
  },
  {
   "cell_type": "code",
   "execution_count": null,
   "metadata": {
    "collapsed": true
   },
   "outputs": [],
   "source": []
  },
  {
   "cell_type": "code",
   "execution_count": null,
   "metadata": {
    "collapsed": true
   },
   "outputs": [],
   "source": []
  },
  {
   "cell_type": "code",
   "execution_count": null,
   "metadata": {
    "collapsed": true
   },
   "outputs": [],
   "source": []
  },
  {
   "cell_type": "code",
   "execution_count": null,
   "metadata": {
    "collapsed": true
   },
   "outputs": [],
   "source": []
  },
  {
   "cell_type": "markdown",
   "metadata": {},
   "source": [
    "Pipeline (working on this)"
   ]
  },
  {
   "cell_type": "markdown",
   "metadata": {},
   "source": [
    "Model Training and Selection (working on this)"
   ]
  },
  {
   "cell_type": "markdown",
   "metadata": {},
   "source": [
    "Hyperparameter Tuning (coming soon)"
   ]
  },
  {
   "cell_type": "markdown",
   "metadata": {},
   "source": [
    "TEST"
   ]
  },
  {
   "cell_type": "code",
   "execution_count": null,
   "metadata": {
    "collapsed": true
   },
   "outputs": [],
   "source": []
  }
 ],
 "metadata": {
  "kernelspec": {
   "display_name": "Python 2",
   "language": "python",
   "name": "python2"
  },
  "language_info": {
   "codemirror_mode": {
    "name": "ipython",
    "version": 2
   },
   "file_extension": ".py",
   "mimetype": "text/x-python",
   "name": "python",
   "nbconvert_exporter": "python",
   "pygments_lexer": "ipython2",
   "version": "2.7.12"
  }
 },
 "nbformat": 4,
 "nbformat_minor": 2
}
